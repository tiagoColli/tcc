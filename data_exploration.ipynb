{
 "cells": [
  {
   "cell_type": "code",
   "execution_count": 1,
   "id": "c3ee57d3",
   "metadata": {},
   "outputs": [],
   "source": [
    "import numpy as np\n",
    "import pandas as pd\n",
    "import seaborn as sns\n",
    "from sklearn.neighbors import LocalOutlierFactor\n",
    "\n",
    "import matplotlib.pyplot as plt\n",
    "from sklearn.preprocessing import normalize\n",
    "from sklearn.preprocessing import MinMaxScaler\n",
    "from sklearn.neighbors import LocalOutlierFactor\n",
    "\n",
    "\n",
    "pd.set_option('display.max_colwidth', 355)\n",
    "pd.set_option('display.max_rows', 100)"
   ]
  },
  {
   "cell_type": "code",
   "execution_count": 2,
   "id": "2482b075",
   "metadata": {},
   "outputs": [],
   "source": [
    "df = pd.read_csv('datasets/b3_stocks_1994_2020.csv')\n",
    "#df = pd.read_csv('../b3data/b3_stocks_1994_2020.csv')"
   ]
  },
  {
   "cell_type": "markdown",
   "id": "86867893",
   "metadata": {},
   "source": [
    "## IBOV Ações - Exploração inicial"
   ]
  },
  {
   "cell_type": "code",
   "execution_count": 3,
   "id": "e4a6bb1d",
   "metadata": {
    "scrolled": false
   },
   "outputs": [
    {
     "data": {
      "text/html": [
       "<div>\n",
       "<style scoped>\n",
       "    .dataframe tbody tr th:only-of-type {\n",
       "        vertical-align: middle;\n",
       "    }\n",
       "\n",
       "    .dataframe tbody tr th {\n",
       "        vertical-align: top;\n",
       "    }\n",
       "\n",
       "    .dataframe thead th {\n",
       "        text-align: right;\n",
       "    }\n",
       "</style>\n",
       "<table border=\"1\" class=\"dataframe\">\n",
       "  <thead>\n",
       "    <tr style=\"text-align: right;\">\n",
       "      <th></th>\n",
       "      <th>datetime</th>\n",
       "      <th>ticker</th>\n",
       "      <th>open</th>\n",
       "      <th>close</th>\n",
       "      <th>high</th>\n",
       "      <th>low</th>\n",
       "      <th>volume</th>\n",
       "    </tr>\n",
       "  </thead>\n",
       "  <tbody>\n",
       "    <tr>\n",
       "      <th>0</th>\n",
       "      <td>1994-07-04</td>\n",
       "      <td>ACE 3</td>\n",
       "      <td>48.00</td>\n",
       "      <td>48.00</td>\n",
       "      <td>48.00</td>\n",
       "      <td>47.00</td>\n",
       "      <td>46550.0</td>\n",
       "    </tr>\n",
       "    <tr>\n",
       "      <th>1</th>\n",
       "      <td>1994-07-04</td>\n",
       "      <td>ALP 3</td>\n",
       "      <td>155.27</td>\n",
       "      <td>156.00</td>\n",
       "      <td>156.00</td>\n",
       "      <td>155.27</td>\n",
       "      <td>163405.8</td>\n",
       "    </tr>\n",
       "    <tr>\n",
       "      <th>2</th>\n",
       "      <td>1994-07-04</td>\n",
       "      <td>ALP 4</td>\n",
       "      <td>131.00</td>\n",
       "      <td>131.00</td>\n",
       "      <td>131.00</td>\n",
       "      <td>131.00</td>\n",
       "      <td>6550.0</td>\n",
       "    </tr>\n",
       "    <tr>\n",
       "      <th>3</th>\n",
       "      <td>1994-07-04</td>\n",
       "      <td>IBP 6</td>\n",
       "      <td>600.00</td>\n",
       "      <td>600.00</td>\n",
       "      <td>600.00</td>\n",
       "      <td>600.00</td>\n",
       "      <td>7800.0</td>\n",
       "    </tr>\n",
       "    <tr>\n",
       "      <th>4</th>\n",
       "      <td>1994-07-04</td>\n",
       "      <td>AQT 4</td>\n",
       "      <td>0.89</td>\n",
       "      <td>0.99</td>\n",
       "      <td>0.99</td>\n",
       "      <td>0.85</td>\n",
       "      <td>13137.0</td>\n",
       "    </tr>\n",
       "  </tbody>\n",
       "</table>\n",
       "</div>"
      ],
      "text/plain": [
       "     datetime ticker    open   close    high     low    volume\n",
       "0  1994-07-04  ACE 3   48.00   48.00   48.00   47.00   46550.0\n",
       "1  1994-07-04  ALP 3  155.27  156.00  156.00  155.27  163405.8\n",
       "2  1994-07-04  ALP 4  131.00  131.00  131.00  131.00    6550.0\n",
       "3  1994-07-04  IBP 6  600.00  600.00  600.00  600.00    7800.0\n",
       "4  1994-07-04  AQT 4    0.89    0.99    0.99    0.85   13137.0"
      ]
     },
     "execution_count": 3,
     "metadata": {},
     "output_type": "execute_result"
    }
   ],
   "source": [
    "df.head()"
   ]
  },
  {
   "cell_type": "code",
   "execution_count": 4,
   "id": "d5df0808",
   "metadata": {
    "scrolled": true
   },
   "outputs": [
    {
     "data": {
      "text/plain": [
       "(1883203, 7)"
      ]
     },
     "execution_count": 4,
     "metadata": {},
     "output_type": "execute_result"
    }
   ],
   "source": [
    "df.shape"
   ]
  },
  {
   "cell_type": "markdown",
   "id": "37f44beb",
   "metadata": {},
   "source": [
    "## Tratamento dos dados"
   ]
  },
  {
   "cell_type": "code",
   "execution_count": 5,
   "id": "f7dc783c",
   "metadata": {},
   "outputs": [],
   "source": [
    "# Convertendo string para datetime\n",
    "df['datetime'] = pd.to_datetime(df['datetime'])"
   ]
  },
  {
   "cell_type": "code",
   "execution_count": 6,
   "id": "0991631f",
   "metadata": {},
   "outputs": [],
   "source": [
    "# Removendo coluna não utilizada\n",
    "# df = df.drop(['volume'], axis=1)"
   ]
  },
  {
   "cell_type": "markdown",
   "id": "bf6bb232",
   "metadata": {},
   "source": [
    "### Criação de novas features"
   ]
  },
  {
   "cell_type": "code",
   "execution_count": 7,
   "id": "123df84e",
   "metadata": {},
   "outputs": [],
   "source": [
    "# Variação diária em porcentagem \n",
    "df['delta_open'] = df.apply(lambda x: (abs(x['open'] - x['close']) / x['open']), axis=1)"
   ]
  },
  {
   "cell_type": "code",
   "execution_count": 8,
   "id": "bffb9f92",
   "metadata": {},
   "outputs": [],
   "source": [
    "# Indica se a variação foi positiva, negativa ou zero\n",
    "def calc_delta_side(row):\n",
    "    delta = row['open'] - row['close']\n",
    "    if delta > 0:\n",
    "        return 1\n",
    "    elif delta == 0:\n",
    "        return 0\n",
    "    else:\n",
    "        return -1\n",
    "\n",
    "df['delta_side'] = df.apply(lambda row: calc_delta_side(row), axis=1)"
   ]
  },
  {
   "cell_type": "markdown",
   "id": "41f4f527",
   "metadata": {},
   "source": [
    "**Coluna delta_high faz sentido??? (high - low)**"
   ]
  },
  {
   "cell_type": "markdown",
   "id": "994b0d8c",
   "metadata": {},
   "source": [
    "### Removendo dados que não fazem sentido\n",
    "com por exemplo, preço máximo menor do que o preço de abertura"
   ]
  },
  {
   "cell_type": "code",
   "execution_count": 9,
   "id": "4c1cc414",
   "metadata": {},
   "outputs": [
    {
     "data": {
      "text/html": [
       "<div>\n",
       "<style scoped>\n",
       "    .dataframe tbody tr th:only-of-type {\n",
       "        vertical-align: middle;\n",
       "    }\n",
       "\n",
       "    .dataframe tbody tr th {\n",
       "        vertical-align: top;\n",
       "    }\n",
       "\n",
       "    .dataframe thead th {\n",
       "        text-align: right;\n",
       "    }\n",
       "</style>\n",
       "<table border=\"1\" class=\"dataframe\">\n",
       "  <thead>\n",
       "    <tr style=\"text-align: right;\">\n",
       "      <th></th>\n",
       "      <th>datetime</th>\n",
       "      <th>ticker</th>\n",
       "      <th>open</th>\n",
       "      <th>close</th>\n",
       "      <th>high</th>\n",
       "      <th>low</th>\n",
       "      <th>volume</th>\n",
       "      <th>delta_open</th>\n",
       "      <th>delta_side</th>\n",
       "    </tr>\n",
       "  </thead>\n",
       "  <tbody>\n",
       "    <tr>\n",
       "      <th>122258</th>\n",
       "      <td>1996-08-14</td>\n",
       "      <td>LAE 4</td>\n",
       "      <td>0.05</td>\n",
       "      <td>0.59</td>\n",
       "      <td>0.59</td>\n",
       "      <td>0.05</td>\n",
       "      <td>4.92</td>\n",
       "      <td>10.800000</td>\n",
       "      <td>-1</td>\n",
       "    </tr>\n",
       "    <tr>\n",
       "      <th>582487</th>\n",
       "      <td>2005-03-18</td>\n",
       "      <td>TPEC11B</td>\n",
       "      <td>1.00</td>\n",
       "      <td>33.00</td>\n",
       "      <td>1.00</td>\n",
       "      <td>1.00</td>\n",
       "      <td>1.00</td>\n",
       "      <td>32.000000</td>\n",
       "      <td>-1</td>\n",
       "    </tr>\n",
       "    <tr>\n",
       "      <th>587314</th>\n",
       "      <td>2005-04-20</td>\n",
       "      <td>ENMA3B</td>\n",
       "      <td>0.39</td>\n",
       "      <td>20.00</td>\n",
       "      <td>0.39</td>\n",
       "      <td>0.39</td>\n",
       "      <td>197501.46</td>\n",
       "      <td>50.282051</td>\n",
       "      <td>-1</td>\n",
       "    </tr>\n",
       "    <tr>\n",
       "      <th>786027</th>\n",
       "      <td>2008-03-13</td>\n",
       "      <td>AMCE3</td>\n",
       "      <td>0.22</td>\n",
       "      <td>3.26</td>\n",
       "      <td>3.26</td>\n",
       "      <td>0.22</td>\n",
       "      <td>103604.00</td>\n",
       "      <td>13.818182</td>\n",
       "      <td>-1</td>\n",
       "    </tr>\n",
       "  </tbody>\n",
       "</table>\n",
       "</div>"
      ],
      "text/plain": [
       "         datetime   ticker  open  close  high   low     volume  delta_open  \\\n",
       "122258 1996-08-14    LAE 4  0.05   0.59  0.59  0.05       4.92   10.800000   \n",
       "582487 2005-03-18  TPEC11B  1.00  33.00  1.00  1.00       1.00   32.000000   \n",
       "587314 2005-04-20   ENMA3B  0.39  20.00  0.39  0.39  197501.46   50.282051   \n",
       "786027 2008-03-13    AMCE3  0.22   3.26  3.26  0.22  103604.00   13.818182   \n",
       "\n",
       "        delta_side  \n",
       "122258          -1  \n",
       "582487          -1  \n",
       "587314          -1  \n",
       "786027          -1  "
      ]
     },
     "execution_count": 9,
     "metadata": {},
     "output_type": "execute_result"
    }
   ],
   "source": [
    "# Muita low e high com muita variação mas close e open próximos\n",
    "df.loc[df['delta_open'] > 10].head(10)"
   ]
  },
  {
   "cell_type": "markdown",
   "id": "a955a445",
   "metadata": {},
   "source": [
    "#### Seriam esses dois dados ruido? (high = 1 / close = 33)"
   ]
  },
  {
   "cell_type": "code",
   "execution_count": 10,
   "id": "fdbd2871",
   "metadata": {},
   "outputs": [
    {
     "data": {
      "text/plain": [
       "(1882841, 9)"
      ]
     },
     "execution_count": 10,
     "metadata": {},
     "output_type": "execute_result"
    }
   ],
   "source": [
    "df = df.loc[(df['high'] >= df['open']) & (df['high'] >= df['close'])]\n",
    "df = df.loc[(df['open'] >= df['low']) & (df['close'] >= df['low'])]\n",
    "\n",
    "df = df.loc[(df['high'] >= df['low'])]\n",
    "\n",
    "df.shape"
   ]
  },
  {
   "cell_type": "markdown",
   "id": "9f9fe0f3",
   "metadata": {},
   "source": [
    "### Plotando distribuições"
   ]
  },
  {
   "cell_type": "code",
   "execution_count": 11,
   "id": "79927c59",
   "metadata": {
    "scrolled": false
   },
   "outputs": [
    {
     "data": {
      "text/html": [
       "<div>\n",
       "<style scoped>\n",
       "    .dataframe tbody tr th:only-of-type {\n",
       "        vertical-align: middle;\n",
       "    }\n",
       "\n",
       "    .dataframe tbody tr th {\n",
       "        vertical-align: top;\n",
       "    }\n",
       "\n",
       "    .dataframe thead th {\n",
       "        text-align: right;\n",
       "    }\n",
       "</style>\n",
       "<table border=\"1\" class=\"dataframe\">\n",
       "  <thead>\n",
       "    <tr style=\"text-align: right;\">\n",
       "      <th></th>\n",
       "      <th>open</th>\n",
       "      <th>close</th>\n",
       "      <th>high</th>\n",
       "      <th>low</th>\n",
       "      <th>volume</th>\n",
       "      <th>delta_open</th>\n",
       "      <th>delta_side</th>\n",
       "    </tr>\n",
       "  </thead>\n",
       "  <tbody>\n",
       "    <tr>\n",
       "      <th>count</th>\n",
       "      <td>1882841.00</td>\n",
       "      <td>1882841.00</td>\n",
       "      <td>1882841.00</td>\n",
       "      <td>1882841.00</td>\n",
       "      <td>1882841.00</td>\n",
       "      <td>1882841.00</td>\n",
       "      <td>1882841.00</td>\n",
       "    </tr>\n",
       "    <tr>\n",
       "      <th>mean</th>\n",
       "      <td>68.08</td>\n",
       "      <td>68.21</td>\n",
       "      <td>68.76</td>\n",
       "      <td>67.47</td>\n",
       "      <td>16686024.33</td>\n",
       "      <td>0.02</td>\n",
       "      <td>0.01</td>\n",
       "    </tr>\n",
       "    <tr>\n",
       "      <th>std</th>\n",
       "      <td>1689.92</td>\n",
       "      <td>1695.21</td>\n",
       "      <td>1700.11</td>\n",
       "      <td>1683.75</td>\n",
       "      <td>102644019.76</td>\n",
       "      <td>0.04</td>\n",
       "      <td>0.86</td>\n",
       "    </tr>\n",
       "    <tr>\n",
       "      <th>min</th>\n",
       "      <td>0.01</td>\n",
       "      <td>0.01</td>\n",
       "      <td>0.01</td>\n",
       "      <td>0.01</td>\n",
       "      <td>0.00</td>\n",
       "      <td>0.00</td>\n",
       "      <td>-1.00</td>\n",
       "    </tr>\n",
       "    <tr>\n",
       "      <th>25%</th>\n",
       "      <td>3.96</td>\n",
       "      <td>3.96</td>\n",
       "      <td>4.00</td>\n",
       "      <td>3.89</td>\n",
       "      <td>18013.00</td>\n",
       "      <td>0.00</td>\n",
       "      <td>-1.00</td>\n",
       "    </tr>\n",
       "    <tr>\n",
       "      <th>50%</th>\n",
       "      <td>13.69</td>\n",
       "      <td>13.70</td>\n",
       "      <td>13.91</td>\n",
       "      <td>13.45</td>\n",
       "      <td>252842.00</td>\n",
       "      <td>0.01</td>\n",
       "      <td>0.00</td>\n",
       "    </tr>\n",
       "    <tr>\n",
       "      <th>75%</th>\n",
       "      <td>36.67</td>\n",
       "      <td>36.70</td>\n",
       "      <td>37.10</td>\n",
       "      <td>36.05</td>\n",
       "      <td>4796632.00</td>\n",
       "      <td>0.02</td>\n",
       "      <td>1.00</td>\n",
       "    </tr>\n",
       "    <tr>\n",
       "      <th>max</th>\n",
       "      <td>1297776.47</td>\n",
       "      <td>1297776.47</td>\n",
       "      <td>1297776.47</td>\n",
       "      <td>1297776.47</td>\n",
       "      <td>42983799660.00</td>\n",
       "      <td>13.82</td>\n",
       "      <td>1.00</td>\n",
       "    </tr>\n",
       "  </tbody>\n",
       "</table>\n",
       "</div>"
      ],
      "text/plain": [
       "             open       close        high         low          volume  \\\n",
       "count  1882841.00  1882841.00  1882841.00  1882841.00      1882841.00   \n",
       "mean        68.08       68.21       68.76       67.47     16686024.33   \n",
       "std       1689.92     1695.21     1700.11     1683.75    102644019.76   \n",
       "min          0.01        0.01        0.01        0.01            0.00   \n",
       "25%          3.96        3.96        4.00        3.89        18013.00   \n",
       "50%         13.69       13.70       13.91       13.45       252842.00   \n",
       "75%         36.67       36.70       37.10       36.05      4796632.00   \n",
       "max    1297776.47  1297776.47  1297776.47  1297776.47  42983799660.00   \n",
       "\n",
       "       delta_open  delta_side  \n",
       "count  1882841.00  1882841.00  \n",
       "mean         0.02        0.01  \n",
       "std          0.04        0.86  \n",
       "min          0.00       -1.00  \n",
       "25%          0.00       -1.00  \n",
       "50%          0.01        0.00  \n",
       "75%          0.02        1.00  \n",
       "max         13.82        1.00  "
      ]
     },
     "execution_count": 11,
     "metadata": {},
     "output_type": "execute_result"
    }
   ],
   "source": [
    "df.describe().apply(lambda s: s.apply('{0:.2f}'.format))"
   ]
  },
  {
   "cell_type": "code",
   "execution_count": 12,
   "id": "0ba7983d",
   "metadata": {
    "scrolled": true
   },
   "outputs": [
    {
     "data": {
      "text/plain": [
       "<AxesSubplot:xlabel='delta_open'>"
      ]
     },
     "execution_count": 12,
     "metadata": {},
     "output_type": "execute_result"
    },
    {
     "data": {
      "image/png": "[encoded data removed]",
      "text/plain": [
       "<Figure size 432x288 with 1 Axes>"
      ]
     },
     "metadata": {
      "needs_background": "light"
     },
     "output_type": "display_data"
    }
   ],
   "source": [
    "sns.boxplot(x=df['delta_open'])\n",
    "# Esses pontos são possíveis outliers???"
   ]
  },
  {
   "cell_type": "code",
   "execution_count": 13,
   "id": "d5046f1d",
   "metadata": {},
   "outputs": [
    {
     "data": {
      "text/plain": [
       "<seaborn.axisgrid.FacetGrid at 0x13ddd7730>"
      ]
     },
     "execution_count": 13,
     "metadata": {},
     "output_type": "execute_result"
    },
    {
     "data": {
      "image/png": "[encoded data removed]",
      "text/plain": [
       "<Figure size 360x360 with 1 Axes>"
      ]
     },
     "metadata": {
      "needs_background": "light"
     },
     "output_type": "display_data"
    }
   ],
   "source": [
    "# Cortando uma parte dos dados para ver o gráfico com \"zoom\"\n",
    "sns.relplot(x=\"open\", y=\"delta_open\", data=df)"
   ]
  },
  {
   "cell_type": "markdown",
   "id": "8f076bf6",
   "metadata": {},
   "source": [
    "### Normalizando valores\n",
    "\n",
    "**Normalizar antes ou depois de criar as feature?**"
   ]
  },
  {
   "cell_type": "code",
   "execution_count": 14,
   "id": "fa1d6e52",
   "metadata": {},
   "outputs": [],
   "source": [
    "# Normalizando os valores com MinMaxScaler\n",
    "# df[['open', 'close', 'low', 'high', 'delta_open']] = MinMaxScaler().fit_transform(df[['open', 'close', 'low', 'high', 'delta_open']])"
   ]
  },
  {
   "cell_type": "code",
   "execution_count": 15,
   "id": "e2b98fdb",
   "metadata": {},
   "outputs": [],
   "source": [
    "# Normalizando os valores usando normalização logaritmica\n",
    "# df[['open', 'close', 'low', 'high', 'delta_open']] = np.log(df[['open', 'close', 'low', 'high', 'delta_open']])"
   ]
  },
  {
   "cell_type": "markdown",
   "id": "2571a363",
   "metadata": {},
   "source": [
    "### Cortando uma parte dos dados para ver o gráfico com \"zoom\""
   ]
  },
  {
   "cell_type": "code",
   "execution_count": 16,
   "id": "7771d52f",
   "metadata": {},
   "outputs": [
    {
     "data": {
      "text/plain": [
       "<seaborn.axisgrid.FacetGrid at 0x13fd589d0>"
      ]
     },
     "execution_count": 16,
     "metadata": {},
     "output_type": "execute_result"
    },
    {
     "data": {
      "image/png": "[encoded data removed]",
      "text/plain": [
       "<Figure size 360x360 with 1 Axes>"
      ]
     },
     "metadata": {
      "needs_background": "light"
     },
     "output_type": "display_data"
    }
   ],
   "source": [
    "sns.relplot(x=\"open\", y=\"delta_open\", data=df.loc[(df['delta_open'] < 1000) & (df['open'] < 1000)])"
   ]
  },
  {
   "cell_type": "markdown",
   "id": "f0f6ca1a",
   "metadata": {},
   "source": [
    "## Usaremos dados depois de 95 por causa do plano real\n",
    "Não temos a informação de como foi realizada a conversão da moeda e o ano de 94 possui muitas observações destoantes"
   ]
  },
  {
   "cell_type": "code",
   "execution_count": 17,
   "id": "94037245",
   "metadata": {},
   "outputs": [],
   "source": [
    "df = df.loc[df['datetime'] > '1995-01-01']"
   ]
  },
  {
   "cell_type": "markdown",
   "id": "33492059",
   "metadata": {},
   "source": [
    "## Vamos usar apenas dados desse seculo\n",
    "Ao procurar muitas das ações listadas no dataset não encontramos informações"
   ]
  },
  {
   "cell_type": "code",
   "execution_count": 18,
   "id": "4255b4ec",
   "metadata": {},
   "outputs": [],
   "source": [
    "df = df.loc[df['datetime'] > '2000-01-01']"
   ]
  },
  {
   "cell_type": "markdown",
   "id": "0a6619d7",
   "metadata": {},
   "source": [
    "#### Entendendo ações da amazon caindo bruscamente"
   ]
  },
  {
   "cell_type": "code",
   "execution_count": 19,
   "id": "0c370d9e",
   "metadata": {},
   "outputs": [
    {
     "data": {
      "text/plain": [
       "<AxesSubplot:xlabel='datetime', ylabel='close'>"
      ]
     },
     "execution_count": 19,
     "metadata": {},
     "output_type": "execute_result"
    },
    {
     "data": {
      "image/png": "[encoded data removed]",
      "text/plain": [
       "<Figure size 432x288 with 1 Axes>"
      ]
     },
     "metadata": {
      "needs_background": "light"
     },
     "output_type": "display_data"
    }
   ],
   "source": [
    "sns.lineplot(x='datetime', y='close', data=df.loc[(df['ticker'] == 'AMZO34') & (df['datetime'] > '2020-11-01') & (df['datetime'] > '2020-11-01')])"
   ]
  },
  {
   "cell_type": "code",
   "execution_count": 20,
   "id": "2b4adf8b",
   "metadata": {
    "scrolled": true
   },
   "outputs": [
    {
     "data": {
      "text/html": [
       "<div>\n",
       "<style scoped>\n",
       "    .dataframe tbody tr th:only-of-type {\n",
       "        vertical-align: middle;\n",
       "    }\n",
       "\n",
       "    .dataframe tbody tr th {\n",
       "        vertical-align: top;\n",
       "    }\n",
       "\n",
       "    .dataframe thead th {\n",
       "        text-align: right;\n",
       "    }\n",
       "</style>\n",
       "<table border=\"1\" class=\"dataframe\">\n",
       "  <thead>\n",
       "    <tr style=\"text-align: right;\">\n",
       "      <th></th>\n",
       "      <th>datetime</th>\n",
       "      <th>ticker</th>\n",
       "      <th>open</th>\n",
       "      <th>close</th>\n",
       "      <th>high</th>\n",
       "      <th>low</th>\n",
       "      <th>volume</th>\n",
       "      <th>delta_open</th>\n",
       "      <th>delta_side</th>\n",
       "    </tr>\n",
       "  </thead>\n",
       "  <tbody>\n",
       "    <tr>\n",
       "      <th>1854244</th>\n",
       "      <td>2020-11-03</td>\n",
       "      <td>AMZO34</td>\n",
       "      <td>8638.99</td>\n",
       "      <td>8779.45</td>\n",
       "      <td>8840.00</td>\n",
       "      <td>8444.44</td>\n",
       "      <td>14952140.22</td>\n",
       "      <td>0.016259</td>\n",
       "      <td>-1</td>\n",
       "    </tr>\n",
       "    <tr>\n",
       "      <th>1854245</th>\n",
       "      <td>2020-11-04</td>\n",
       "      <td>AMZO34</td>\n",
       "      <td>8951.00</td>\n",
       "      <td>9194.65</td>\n",
       "      <td>9194.65</td>\n",
       "      <td>8951.00</td>\n",
       "      <td>9608634.26</td>\n",
       "      <td>0.027220</td>\n",
       "      <td>-1</td>\n",
       "    </tr>\n",
       "    <tr>\n",
       "      <th>1854246</th>\n",
       "      <td>2020-11-05</td>\n",
       "      <td>AMZO34</td>\n",
       "      <td>9207.00</td>\n",
       "      <td>9280.00</td>\n",
       "      <td>9350.00</td>\n",
       "      <td>9164.90</td>\n",
       "      <td>7387944.57</td>\n",
       "      <td>0.007929</td>\n",
       "      <td>-1</td>\n",
       "    </tr>\n",
       "    <tr>\n",
       "      <th>1854247</th>\n",
       "      <td>2020-11-06</td>\n",
       "      <td>AMZO34</td>\n",
       "      <td>9280.00</td>\n",
       "      <td>8926.50</td>\n",
       "      <td>9280.00</td>\n",
       "      <td>8870.00</td>\n",
       "      <td>12508258.30</td>\n",
       "      <td>0.038093</td>\n",
       "      <td>1</td>\n",
       "    </tr>\n",
       "    <tr>\n",
       "      <th>1854248</th>\n",
       "      <td>2020-11-09</td>\n",
       "      <td>AMZO34</td>\n",
       "      <td>113.71</td>\n",
       "      <td>108.81</td>\n",
       "      <td>117.95</td>\n",
       "      <td>105.96</td>\n",
       "      <td>29284445.04</td>\n",
       "      <td>0.043092</td>\n",
       "      <td>1</td>\n",
       "    </tr>\n",
       "    <tr>\n",
       "      <th>1854249</th>\n",
       "      <td>2020-11-10</td>\n",
       "      <td>AMZO34</td>\n",
       "      <td>106.08</td>\n",
       "      <td>105.47</td>\n",
       "      <td>107.27</td>\n",
       "      <td>103.30</td>\n",
       "      <td>30493277.04</td>\n",
       "      <td>0.005750</td>\n",
       "      <td>1</td>\n",
       "    </tr>\n",
       "    <tr>\n",
       "      <th>1859273</th>\n",
       "      <td>2020-11-11</td>\n",
       "      <td>AMZO34</td>\n",
       "      <td>106.29</td>\n",
       "      <td>107.55</td>\n",
       "      <td>108.05</td>\n",
       "      <td>104.85</td>\n",
       "      <td>20231314.93</td>\n",
       "      <td>0.011854</td>\n",
       "      <td>-1</td>\n",
       "    </tr>\n",
       "    <tr>\n",
       "      <th>1859274</th>\n",
       "      <td>2020-11-12</td>\n",
       "      <td>AMZO34</td>\n",
       "      <td>107.92</td>\n",
       "      <td>108.60</td>\n",
       "      <td>109.61</td>\n",
       "      <td>107.15</td>\n",
       "      <td>12690454.53</td>\n",
       "      <td>0.006301</td>\n",
       "      <td>-1</td>\n",
       "    </tr>\n",
       "    <tr>\n",
       "      <th>1859275</th>\n",
       "      <td>2020-11-13</td>\n",
       "      <td>AMZO34</td>\n",
       "      <td>108.66</td>\n",
       "      <td>108.88</td>\n",
       "      <td>110.11</td>\n",
       "      <td>107.78</td>\n",
       "      <td>11766562.93</td>\n",
       "      <td>0.002025</td>\n",
       "      <td>-1</td>\n",
       "    </tr>\n",
       "    <tr>\n",
       "      <th>1859276</th>\n",
       "      <td>2020-11-16</td>\n",
       "      <td>AMZO34</td>\n",
       "      <td>107.32</td>\n",
       "      <td>108.88</td>\n",
       "      <td>109.06</td>\n",
       "      <td>106.02</td>\n",
       "      <td>9451368.82</td>\n",
       "      <td>0.014536</td>\n",
       "      <td>-1</td>\n",
       "    </tr>\n",
       "    <tr>\n",
       "      <th>1859277</th>\n",
       "      <td>2020-11-17</td>\n",
       "      <td>AMZO34</td>\n",
       "      <td>109.90</td>\n",
       "      <td>107.21</td>\n",
       "      <td>110.59</td>\n",
       "      <td>106.70</td>\n",
       "      <td>12600583.29</td>\n",
       "      <td>0.024477</td>\n",
       "      <td>1</td>\n",
       "    </tr>\n",
       "    <tr>\n",
       "      <th>1859278</th>\n",
       "      <td>2020-11-18</td>\n",
       "      <td>AMZO34</td>\n",
       "      <td>106.30</td>\n",
       "      <td>107.89</td>\n",
       "      <td>107.89</td>\n",
       "      <td>104.70</td>\n",
       "      <td>10102433.15</td>\n",
       "      <td>0.014958</td>\n",
       "      <td>-1</td>\n",
       "    </tr>\n",
       "    <tr>\n",
       "      <th>1859279</th>\n",
       "      <td>2020-11-19</td>\n",
       "      <td>AMZO34</td>\n",
       "      <td>106.50</td>\n",
       "      <td>105.50</td>\n",
       "      <td>106.95</td>\n",
       "      <td>104.60</td>\n",
       "      <td>7594876.04</td>\n",
       "      <td>0.009390</td>\n",
       "      <td>1</td>\n",
       "    </tr>\n",
       "    <tr>\n",
       "      <th>1864194</th>\n",
       "      <td>2020-11-20</td>\n",
       "      <td>AMZO34</td>\n",
       "      <td>106.50</td>\n",
       "      <td>106.50</td>\n",
       "      <td>107.50</td>\n",
       "      <td>105.81</td>\n",
       "      <td>6514966.87</td>\n",
       "      <td>0.000000</td>\n",
       "      <td>0</td>\n",
       "    </tr>\n",
       "    <tr>\n",
       "      <th>1864195</th>\n",
       "      <td>2020-11-23</td>\n",
       "      <td>AMZO34</td>\n",
       "      <td>106.50</td>\n",
       "      <td>108.00</td>\n",
       "      <td>108.00</td>\n",
       "      <td>106.01</td>\n",
       "      <td>6438316.88</td>\n",
       "      <td>0.014085</td>\n",
       "      <td>-1</td>\n",
       "    </tr>\n",
       "    <tr>\n",
       "      <th>1864196</th>\n",
       "      <td>2020-11-24</td>\n",
       "      <td>AMZO34</td>\n",
       "      <td>107.96</td>\n",
       "      <td>106.81</td>\n",
       "      <td>107.96</td>\n",
       "      <td>106.15</td>\n",
       "      <td>10910829.60</td>\n",
       "      <td>0.010652</td>\n",
       "      <td>1</td>\n",
       "    </tr>\n",
       "    <tr>\n",
       "      <th>1864197</th>\n",
       "      <td>2020-11-25</td>\n",
       "      <td>AMZO34</td>\n",
       "      <td>106.83</td>\n",
       "      <td>108.06</td>\n",
       "      <td>108.79</td>\n",
       "      <td>106.51</td>\n",
       "      <td>21925333.48</td>\n",
       "      <td>0.011514</td>\n",
       "      <td>-1</td>\n",
       "    </tr>\n",
       "    <tr>\n",
       "      <th>1864198</th>\n",
       "      <td>2020-11-26</td>\n",
       "      <td>AMZO34</td>\n",
       "      <td>108.49</td>\n",
       "      <td>107.30</td>\n",
       "      <td>109.40</td>\n",
       "      <td>104.50</td>\n",
       "      <td>4494758.86</td>\n",
       "      <td>0.010969</td>\n",
       "      <td>1</td>\n",
       "    </tr>\n",
       "    <tr>\n",
       "      <th>1864199</th>\n",
       "      <td>2020-11-27</td>\n",
       "      <td>AMZO34</td>\n",
       "      <td>108.50</td>\n",
       "      <td>108.70</td>\n",
       "      <td>110.40</td>\n",
       "      <td>108.20</td>\n",
       "      <td>6977427.71</td>\n",
       "      <td>0.001843</td>\n",
       "      <td>-1</td>\n",
       "    </tr>\n",
       "    <tr>\n",
       "      <th>1864200</th>\n",
       "      <td>2020-11-30</td>\n",
       "      <td>AMZO34</td>\n",
       "      <td>108.70</td>\n",
       "      <td>108.00</td>\n",
       "      <td>109.49</td>\n",
       "      <td>106.86</td>\n",
       "      <td>12234260.02</td>\n",
       "      <td>0.006440</td>\n",
       "      <td>1</td>\n",
       "    </tr>\n",
       "    <tr>\n",
       "      <th>1868799</th>\n",
       "      <td>2020-12-01</td>\n",
       "      <td>AMZO34</td>\n",
       "      <td>108.00</td>\n",
       "      <td>108.00</td>\n",
       "      <td>108.90</td>\n",
       "      <td>105.83</td>\n",
       "      <td>5542618.17</td>\n",
       "      <td>0.000000</td>\n",
       "      <td>0</td>\n",
       "    </tr>\n",
       "    <tr>\n",
       "      <th>1868800</th>\n",
       "      <td>2020-12-02</td>\n",
       "      <td>AMZO34</td>\n",
       "      <td>108.00</td>\n",
       "      <td>106.74</td>\n",
       "      <td>108.00</td>\n",
       "      <td>105.85</td>\n",
       "      <td>4266391.07</td>\n",
       "      <td>0.011667</td>\n",
       "      <td>1</td>\n",
       "    </tr>\n",
       "    <tr>\n",
       "      <th>1868801</th>\n",
       "      <td>2020-12-03</td>\n",
       "      <td>AMZO34</td>\n",
       "      <td>107.30</td>\n",
       "      <td>105.15</td>\n",
       "      <td>107.30</td>\n",
       "      <td>104.30</td>\n",
       "      <td>8632740.54</td>\n",
       "      <td>0.020037</td>\n",
       "      <td>1</td>\n",
       "    </tr>\n",
       "    <tr>\n",
       "      <th>1868802</th>\n",
       "      <td>2020-12-04</td>\n",
       "      <td>AMZO34</td>\n",
       "      <td>105.15</td>\n",
       "      <td>103.87</td>\n",
       "      <td>105.58</td>\n",
       "      <td>103.02</td>\n",
       "      <td>9949572.37</td>\n",
       "      <td>0.012173</td>\n",
       "      <td>1</td>\n",
       "    </tr>\n",
       "    <tr>\n",
       "      <th>1868803</th>\n",
       "      <td>2020-12-07</td>\n",
       "      <td>AMZO34</td>\n",
       "      <td>103.79</td>\n",
       "      <td>102.92</td>\n",
       "      <td>103.79</td>\n",
       "      <td>101.75</td>\n",
       "      <td>21735859.32</td>\n",
       "      <td>0.008382</td>\n",
       "      <td>1</td>\n",
       "    </tr>\n",
       "    <tr>\n",
       "      <th>1868804</th>\n",
       "      <td>2020-12-08</td>\n",
       "      <td>AMZO34</td>\n",
       "      <td>103.27</td>\n",
       "      <td>103.75</td>\n",
       "      <td>104.00</td>\n",
       "      <td>100.90</td>\n",
       "      <td>16293610.79</td>\n",
       "      <td>0.004648</td>\n",
       "      <td>-1</td>\n",
       "    </tr>\n",
       "    <tr>\n",
       "      <th>1868805</th>\n",
       "      <td>2020-12-09</td>\n",
       "      <td>AMZO34</td>\n",
       "      <td>103.75</td>\n",
       "      <td>102.00</td>\n",
       "      <td>103.75</td>\n",
       "      <td>101.85</td>\n",
       "      <td>9550384.91</td>\n",
       "      <td>0.016867</td>\n",
       "      <td>1</td>\n",
       "    </tr>\n",
       "    <tr>\n",
       "      <th>1873895</th>\n",
       "      <td>2020-12-10</td>\n",
       "      <td>AMZO34</td>\n",
       "      <td>101.00</td>\n",
       "      <td>99.51</td>\n",
       "      <td>101.75</td>\n",
       "      <td>98.93</td>\n",
       "      <td>13940843.49</td>\n",
       "      <td>0.014752</td>\n",
       "      <td>1</td>\n",
       "    </tr>\n",
       "    <tr>\n",
       "      <th>1873896</th>\n",
       "      <td>2020-12-11</td>\n",
       "      <td>AMZO34</td>\n",
       "      <td>99.52</td>\n",
       "      <td>100.37</td>\n",
       "      <td>100.75</td>\n",
       "      <td>98.92</td>\n",
       "      <td>10026410.54</td>\n",
       "      <td>0.008541</td>\n",
       "      <td>-1</td>\n",
       "    </tr>\n",
       "    <tr>\n",
       "      <th>1873897</th>\n",
       "      <td>2020-12-14</td>\n",
       "      <td>AMZO34</td>\n",
       "      <td>100.40</td>\n",
       "      <td>102.50</td>\n",
       "      <td>103.99</td>\n",
       "      <td>100.00</td>\n",
       "      <td>11354631.28</td>\n",
       "      <td>0.020916</td>\n",
       "      <td>-1</td>\n",
       "    </tr>\n",
       "    <tr>\n",
       "      <th>1873898</th>\n",
       "      <td>2020-12-15</td>\n",
       "      <td>AMZO34</td>\n",
       "      <td>103.05</td>\n",
       "      <td>103.41</td>\n",
       "      <td>103.90</td>\n",
       "      <td>101.71</td>\n",
       "      <td>5497831.86</td>\n",
       "      <td>0.003493</td>\n",
       "      <td>-1</td>\n",
       "    </tr>\n",
       "    <tr>\n",
       "      <th>1873899</th>\n",
       "      <td>2020-12-16</td>\n",
       "      <td>AMZO34</td>\n",
       "      <td>103.48</td>\n",
       "      <td>104.99</td>\n",
       "      <td>105.60</td>\n",
       "      <td>102.70</td>\n",
       "      <td>9246465.27</td>\n",
       "      <td>0.014592</td>\n",
       "      <td>-1</td>\n",
       "    </tr>\n",
       "    <tr>\n",
       "      <th>1873900</th>\n",
       "      <td>2020-12-17</td>\n",
       "      <td>AMZO34</td>\n",
       "      <td>105.64</td>\n",
       "      <td>104.45</td>\n",
       "      <td>105.87</td>\n",
       "      <td>103.85</td>\n",
       "      <td>5802140.69</td>\n",
       "      <td>0.011265</td>\n",
       "      <td>1</td>\n",
       "    </tr>\n",
       "    <tr>\n",
       "      <th>1873901</th>\n",
       "      <td>2020-12-18</td>\n",
       "      <td>AMZO34</td>\n",
       "      <td>105.00</td>\n",
       "      <td>103.50</td>\n",
       "      <td>105.75</td>\n",
       "      <td>102.90</td>\n",
       "      <td>10996675.79</td>\n",
       "      <td>0.014286</td>\n",
       "      <td>1</td>\n",
       "    </tr>\n",
       "    <tr>\n",
       "      <th>1878974</th>\n",
       "      <td>2020-12-21</td>\n",
       "      <td>AMZO34</td>\n",
       "      <td>103.80</td>\n",
       "      <td>104.40</td>\n",
       "      <td>106.40</td>\n",
       "      <td>103.80</td>\n",
       "      <td>7843035.61</td>\n",
       "      <td>0.005780</td>\n",
       "      <td>-1</td>\n",
       "    </tr>\n",
       "    <tr>\n",
       "      <th>1878975</th>\n",
       "      <td>2020-12-22</td>\n",
       "      <td>AMZO34</td>\n",
       "      <td>105.80</td>\n",
       "      <td>105.98</td>\n",
       "      <td>106.00</td>\n",
       "      <td>104.56</td>\n",
       "      <td>9734651.76</td>\n",
       "      <td>0.001701</td>\n",
       "      <td>-1</td>\n",
       "    </tr>\n",
       "    <tr>\n",
       "      <th>1878976</th>\n",
       "      <td>2020-12-23</td>\n",
       "      <td>AMZO34</td>\n",
       "      <td>106.00</td>\n",
       "      <td>105.32</td>\n",
       "      <td>106.50</td>\n",
       "      <td>104.80</td>\n",
       "      <td>9462372.30</td>\n",
       "      <td>0.006415</td>\n",
       "      <td>1</td>\n",
       "    </tr>\n",
       "    <tr>\n",
       "      <th>1878977</th>\n",
       "      <td>2020-12-28</td>\n",
       "      <td>AMZO34</td>\n",
       "      <td>106.53</td>\n",
       "      <td>109.50</td>\n",
       "      <td>110.60</td>\n",
       "      <td>105.57</td>\n",
       "      <td>18968015.47</td>\n",
       "      <td>0.027879</td>\n",
       "      <td>-1</td>\n",
       "    </tr>\n",
       "    <tr>\n",
       "      <th>1878978</th>\n",
       "      <td>2020-12-29</td>\n",
       "      <td>AMZO34</td>\n",
       "      <td>109.50</td>\n",
       "      <td>110.80</td>\n",
       "      <td>110.90</td>\n",
       "      <td>108.70</td>\n",
       "      <td>16637717.23</td>\n",
       "      <td>0.011872</td>\n",
       "      <td>-1</td>\n",
       "    </tr>\n",
       "    <tr>\n",
       "      <th>1878979</th>\n",
       "      <td>2020-12-30</td>\n",
       "      <td>AMZO34</td>\n",
       "      <td>110.90</td>\n",
       "      <td>109.30</td>\n",
       "      <td>111.40</td>\n",
       "      <td>108.50</td>\n",
       "      <td>77228670.01</td>\n",
       "      <td>0.014427</td>\n",
       "      <td>1</td>\n",
       "    </tr>\n",
       "  </tbody>\n",
       "</table>\n",
       "</div>"
      ],
      "text/plain": [
       "          datetime  ticker     open    close     high      low       volume  \\\n",
       "1854244 2020-11-03  AMZO34  8638.99  8779.45  8840.00  8444.44  14952140.22   \n",
       "1854245 2020-11-04  AMZO34  8951.00  9194.65  9194.65  8951.00   9608634.26   \n",
       "1854246 2020-11-05  AMZO34  9207.00  9280.00  9350.00  9164.90   7387944.57   \n",
       "1854247 2020-11-06  AMZO34  9280.00  8926.50  9280.00  8870.00  12508258.30   \n",
       "1854248 2020-11-09  AMZO34   113.71   108.81   117.95   105.96  29284445.04   \n",
       "1854249 2020-11-10  AMZO34   106.08   105.47   107.27   103.30  30493277.04   \n",
       "1859273 2020-11-11  AMZO34   106.29   107.55   108.05   104.85  20231314.93   \n",
       "1859274 2020-11-12  AMZO34   107.92   108.60   109.61   107.15  12690454.53   \n",
       "1859275 2020-11-13  AMZO34   108.66   108.88   110.11   107.78  11766562.93   \n",
       "1859276 2020-11-16  AMZO34   107.32   108.88   109.06   106.02   9451368.82   \n",
       "1859277 2020-11-17  AMZO34   109.90   107.21   110.59   106.70  12600583.29   \n",
       "1859278 2020-11-18  AMZO34   106.30   107.89   107.89   104.70  10102433.15   \n",
       "1859279 2020-11-19  AMZO34   106.50   105.50   106.95   104.60   7594876.04   \n",
       "1864194 2020-11-20  AMZO34   106.50   106.50   107.50   105.81   6514966.87   \n",
       "1864195 2020-11-23  AMZO34   106.50   108.00   108.00   106.01   6438316.88   \n",
       "1864196 2020-11-24  AMZO34   107.96   106.81   107.96   106.15  10910829.60   \n",
       "1864197 2020-11-25  AMZO34   106.83   108.06   108.79   106.51  21925333.48   \n",
       "1864198 2020-11-26  AMZO34   108.49   107.30   109.40   104.50   4494758.86   \n",
       "1864199 2020-11-27  AMZO34   108.50   108.70   110.40   108.20   6977427.71   \n",
       "1864200 2020-11-30  AMZO34   108.70   108.00   109.49   106.86  12234260.02   \n",
       "1868799 2020-12-01  AMZO34   108.00   108.00   108.90   105.83   5542618.17   \n",
       "1868800 2020-12-02  AMZO34   108.00   106.74   108.00   105.85   4266391.07   \n",
       "1868801 2020-12-03  AMZO34   107.30   105.15   107.30   104.30   8632740.54   \n",
       "1868802 2020-12-04  AMZO34   105.15   103.87   105.58   103.02   9949572.37   \n",
       "1868803 2020-12-07  AMZO34   103.79   102.92   103.79   101.75  21735859.32   \n",
       "1868804 2020-12-08  AMZO34   103.27   103.75   104.00   100.90  16293610.79   \n",
       "1868805 2020-12-09  AMZO34   103.75   102.00   103.75   101.85   9550384.91   \n",
       "1873895 2020-12-10  AMZO34   101.00    99.51   101.75    98.93  13940843.49   \n",
       "1873896 2020-12-11  AMZO34    99.52   100.37   100.75    98.92  10026410.54   \n",
       "1873897 2020-12-14  AMZO34   100.40   102.50   103.99   100.00  11354631.28   \n",
       "1873898 2020-12-15  AMZO34   103.05   103.41   103.90   101.71   5497831.86   \n",
       "1873899 2020-12-16  AMZO34   103.48   104.99   105.60   102.70   9246465.27   \n",
       "1873900 2020-12-17  AMZO34   105.64   104.45   105.87   103.85   5802140.69   \n",
       "1873901 2020-12-18  AMZO34   105.00   103.50   105.75   102.90  10996675.79   \n",
       "1878974 2020-12-21  AMZO34   103.80   104.40   106.40   103.80   7843035.61   \n",
       "1878975 2020-12-22  AMZO34   105.80   105.98   106.00   104.56   9734651.76   \n",
       "1878976 2020-12-23  AMZO34   106.00   105.32   106.50   104.80   9462372.30   \n",
       "1878977 2020-12-28  AMZO34   106.53   109.50   110.60   105.57  18968015.47   \n",
       "1878978 2020-12-29  AMZO34   109.50   110.80   110.90   108.70  16637717.23   \n",
       "1878979 2020-12-30  AMZO34   110.90   109.30   111.40   108.50  77228670.01   \n",
       "\n",
       "         delta_open  delta_side  \n",
       "1854244    0.016259          -1  \n",
       "1854245    0.027220          -1  \n",
       "1854246    0.007929          -1  \n",
       "1854247    0.038093           1  \n",
       "1854248    0.043092           1  \n",
       "1854249    0.005750           1  \n",
       "1859273    0.011854          -1  \n",
       "1859274    0.006301          -1  \n",
       "1859275    0.002025          -1  \n",
       "1859276    0.014536          -1  \n",
       "1859277    0.024477           1  \n",
       "1859278    0.014958          -1  \n",
       "1859279    0.009390           1  \n",
       "1864194    0.000000           0  \n",
       "1864195    0.014085          -1  \n",
       "1864196    0.010652           1  \n",
       "1864197    0.011514          -1  \n",
       "1864198    0.010969           1  \n",
       "1864199    0.001843          -1  \n",
       "1864200    0.006440           1  \n",
       "1868799    0.000000           0  \n",
       "1868800    0.011667           1  \n",
       "1868801    0.020037           1  \n",
       "1868802    0.012173           1  \n",
       "1868803    0.008382           1  \n",
       "1868804    0.004648          -1  \n",
       "1868805    0.016867           1  \n",
       "1873895    0.014752           1  \n",
       "1873896    0.008541          -1  \n",
       "1873897    0.020916          -1  \n",
       "1873898    0.003493          -1  \n",
       "1873899    0.014592          -1  \n",
       "1873900    0.011265           1  \n",
       "1873901    0.014286           1  \n",
       "1878974    0.005780          -1  \n",
       "1878975    0.001701          -1  \n",
       "1878976    0.006415           1  \n",
       "1878977    0.027879          -1  \n",
       "1878978    0.011872          -1  \n",
       "1878979    0.014427           1  "
      ]
     },
     "execution_count": 20,
     "metadata": {},
     "output_type": "execute_result"
    }
   ],
   "source": [
    "# Analisando alguns dados para entender o motivo da variação brusca\n",
    "df.loc[(df['ticker'] == 'AMZO34') & (df['datetime'] > '2020-11-01') & (df['datetime'] > '2020-11-01')]"
   ]
  },
  {
   "cell_type": "markdown",
   "id": "f697f364",
   "metadata": {},
   "source": [
    "#### Provavelmente reindexação (1 ação virou 10 com 1/10 do preço)"
   ]
  },
  {
   "cell_type": "markdown",
   "id": "b7e96f01",
   "metadata": {},
   "source": [
    "### LOF"
   ]
  },
  {
   "cell_type": "code",
   "execution_count": 21,
   "id": "845da458",
   "metadata": {},
   "outputs": [],
   "source": [
    "def get_LOF_scores(df, n_neighbors=10, contamination=0.05):\n",
    "    np.random.seed(42)\n",
    "\n",
    "    # fit the model for outlier detection (default)\n",
    "    clf = LocalOutlierFactor(n_neighbors=n_neighbors, contamination=contamination)\n",
    "    # use fit_predict to compute the predicted labels of the training samples\n",
    "    # (when LOF is used for outlier detection, the estimator has no predict,\n",
    "    # decision_function and score_samples methods).\n",
    "    y_pred = clf.fit_predict(df)\n",
    "\n",
    "    X_scores = clf.negative_outlier_factor_\n",
    "    \n",
    "    df['LOF_score'] = X_scores\n",
    "    df['LOF_predictions'] = y_pred\n",
    "    \n",
    "    return df"
   ]
  },
  {
   "cell_type": "code",
   "execution_count": 22,
   "id": "9bd63bb2",
   "metadata": {},
   "outputs": [],
   "source": [
    "def show_2D_outliers(df, x, y, scores, title = ''):\n",
    "\n",
    "    normalized = (df[scores].max() - df[scores]) / (df[scores].max() - df[scores].min())\n",
    "    \n",
    "    t = \"Outlier Scores\"\n",
    "    if title: t=t+\": \"+title\n",
    "    \n",
    "    fig, ax = plt.subplots(figsize=(8, 6))\n",
    "\n",
    "    plt.title(t)\n",
    "    plt.scatter(x=x, y=y, color='k', s=3., label='Data points', data=df)\n",
    "    # plot circles with radius proportional to the outlier scores\n",
    "\n",
    "    plt.scatter(x=x, y=y, s=1000 * normalized, edgecolors='r',\n",
    "                facecolors='none', label='Outlier scores', data=df)\n",
    "    plt.axis('tight')\n",
    "    # plt.xlim((-5, 5))\n",
    "    # plt.ylim((-5, 5))\n",
    "    # plt.xlabel(\"prediction errors: %d\" % (n_errors))\n",
    "    legend = plt.legend(loc='upper left')\n",
    "    legend.legendHandles[0]._sizes = [10]\n",
    "    legend.legendHandles[1]._sizes = [20]\n",
    "    plt.show()"
   ]
  },
  {
   "cell_type": "markdown",
   "id": "7ac6680e",
   "metadata": {},
   "source": [
    "### Aplicando o algoritmo para uma faixa muito densa do dataset"
   ]
  },
  {
   "cell_type": "code",
   "execution_count": 23,
   "id": "0fba2976",
   "metadata": {},
   "outputs": [
    {
     "data": {
      "image/png": "[encoded data removed]",
      "text/plain": [
       "<Figure size 576x432 with 1 Axes>"
      ]
     },
     "metadata": {
      "needs_background": "light"
     },
     "output_type": "display_data"
    }
   ],
   "source": [
    "df_low = df[['open', 'delta_open']]\n",
    "df_low = df_low.loc[(df_low['open'] < 10) & (df_low['delta_open'] < 0.5)]\n",
    "scores_low = get_LOF_scores(df_low, n_neighbors=300, contamination=0.5)\n",
    "\n",
    "show_2D_outliers(scores_low, x = 'open', y = 'delta_open', scores = 'LOF_score', title = 'Delta open low')"
   ]
  },
  {
   "cell_type": "markdown",
   "id": "dc97f87f",
   "metadata": {},
   "source": [
    "#### Acreditamos que nesse caso a visualização seja ruim pois alguns circulos ficam grandes o suficiente para ficar fora do gráfico"
   ]
  },
  {
   "cell_type": "markdown",
   "id": "516f2f8a",
   "metadata": {},
   "source": [
    "### Aplicando o algoritmo para uma faixa pouco densa do dataset"
   ]
  },
  {
   "cell_type": "code",
   "execution_count": 24,
   "id": "bd53aca0",
   "metadata": {
    "scrolled": false
   },
   "outputs": [
    {
     "data": {
      "image/png": "[encoded data removed]",
      "text/plain": [
       "<Figure size 576x432 with 1 Axes>"
      ]
     },
     "metadata": {
      "needs_background": "light"
     },
     "output_type": "display_data"
    }
   ],
   "source": [
    "df_high = df[['open', 'delta_open']]\n",
    "df_high = df_high.loc[(df_high['open'] > 500) & (df_high['delta_open'] > 0.1)]\n",
    "scores_high = get_LOF_scores(df_high, n_neighbors=100, contamination=0.3)\n",
    "\n",
    "show_2D_outliers(scores_high, x = 'open', y = 'delta_open', scores = 'LOF_score', title = 'Delta open high')"
   ]
  },
  {
   "cell_type": "markdown",
   "id": "9b7808ce",
   "metadata": {},
   "source": [
    "**Acreditamos que nesse caso a visualização seja mais efetiva, porém não sabemos como realizar transformações no dataset para chegar numa visualização coerente **"
   ]
  },
  {
   "cell_type": "markdown",
   "id": "ed9715ac",
   "metadata": {},
   "source": [
    "### Resultados\n",
    "\n",
    "- Maior problema identificado: disparidade no preço das ações (algumas centavos outras milhares de reais). Como tratar? - Normalização utilizando escala logaritmica???\n",
    "\n",
    "- Sem resultados satisfatórios\n",
    "- Visualização não é boa nesse caso\n",
    "- Quais outras transformações podem ser feitas ou visualizações exploradas?\n",
    "- Como tratar a disparidade entre os preços das ações?"
   ]
  },
  {
   "cell_type": "markdown",
   "id": "6083dc2f",
   "metadata": {},
   "source": [
    "# Em busca dos Circuit Breakers"
   ]
  },
  {
   "cell_type": "markdown",
   "id": "a21c1e0e",
   "metadata": {},
   "source": [
    "### Criando novas colunas"
   ]
  },
  {
   "cell_type": "markdown",
   "id": "6a2abe63",
   "metadata": {},
   "source": [
    "Goal:\n",
    "- quantas acoes cairam\n",
    "- quantas acoes subiram\n",
    "- media da variacao\n",
    "- media da variacao das 10+\n",
    "- desvio padrao da variacao\n",
    "- media do volume\n",
    "- dia"
   ]
  },
  {
   "cell_type": "markdown",
   "id": "d05d3ef5",
   "metadata": {},
   "source": [
    "Getting the most important ibovespa stocks"
   ]
  },
  {
   "cell_type": "code",
   "execution_count": 25,
   "id": "9e28c6df",
   "metadata": {},
   "outputs": [],
   "source": [
    "ibov_composition = pd.read_csv('datasets/IBOVDia_08-16-21.csv')\n",
    "ibov_composition.reset_index(inplace=True)\n",
    "ibov_composition.sort_values('Theoretical Quantity', ascending=False, inplace=True)\n",
    "top_15 = ibov_composition[1:16]['index'].to_list()"
   ]
  },
  {
   "cell_type": "markdown",
   "id": "8e545752",
   "metadata": {},
   "source": [
    "Creating the daily aggregation"
   ]
  },
  {
   "cell_type": "code",
   "execution_count": 26,
   "id": "fceab59a",
   "metadata": {},
   "outputs": [],
   "source": [
    "def how_many_went_up(series):\n",
    "    return series[series == 1].shape[0] / series.shape[0]\n",
    "\n",
    "def how_many_went_down(series):\n",
    "    return series[series == -1].shape[0] / series.shape[0]"
   ]
  },
  {
   "cell_type": "code",
   "execution_count": 27,
   "id": "2f149cd6",
   "metadata": {
    "scrolled": true
   },
   "outputs": [
    {
     "data": {
      "text/html": [
       "<div>\n",
       "<style scoped>\n",
       "    .dataframe tbody tr th:only-of-type {\n",
       "        vertical-align: middle;\n",
       "    }\n",
       "\n",
       "    .dataframe tbody tr th {\n",
       "        vertical-align: top;\n",
       "    }\n",
       "\n",
       "    .dataframe thead th {\n",
       "        text-align: right;\n",
       "    }\n",
       "</style>\n",
       "<table border=\"1\" class=\"dataframe\">\n",
       "  <thead>\n",
       "    <tr style=\"text-align: right;\">\n",
       "      <th></th>\n",
       "      <th>datetime</th>\n",
       "      <th>ticker</th>\n",
       "      <th>open</th>\n",
       "      <th>close</th>\n",
       "      <th>high</th>\n",
       "      <th>low</th>\n",
       "      <th>volume</th>\n",
       "      <th>delta_open</th>\n",
       "      <th>delta_side</th>\n",
       "    </tr>\n",
       "  </thead>\n",
       "  <tbody>\n",
       "    <tr>\n",
       "      <th>306827</th>\n",
       "      <td>2000-01-04</td>\n",
       "      <td>BBDC3</td>\n",
       "      <td>10.70</td>\n",
       "      <td>10.11</td>\n",
       "      <td>10.70</td>\n",
       "      <td>10.11</td>\n",
       "      <td>712264.00</td>\n",
       "      <td>0.055140</td>\n",
       "      <td>1</td>\n",
       "    </tr>\n",
       "    <tr>\n",
       "      <th>306828</th>\n",
       "      <td>2000-01-04</td>\n",
       "      <td>BBDC4</td>\n",
       "      <td>13.97</td>\n",
       "      <td>13.00</td>\n",
       "      <td>13.97</td>\n",
       "      <td>13.00</td>\n",
       "      <td>18227635.00</td>\n",
       "      <td>0.069435</td>\n",
       "      <td>1</td>\n",
       "    </tr>\n",
       "    <tr>\n",
       "      <th>306829</th>\n",
       "      <td>2000-01-03</td>\n",
       "      <td>CSNA3</td>\n",
       "      <td>70.00</td>\n",
       "      <td>73.00</td>\n",
       "      <td>73.00</td>\n",
       "      <td>69.00</td>\n",
       "      <td>1428849.00</td>\n",
       "      <td>0.042857</td>\n",
       "      <td>-1</td>\n",
       "    </tr>\n",
       "    <tr>\n",
       "      <th>306830</th>\n",
       "      <td>2000-01-03</td>\n",
       "      <td>CRTP5</td>\n",
       "      <td>315.00</td>\n",
       "      <td>307.50</td>\n",
       "      <td>315.00</td>\n",
       "      <td>303.00</td>\n",
       "      <td>477392.83</td>\n",
       "      <td>0.023810</td>\n",
       "      <td>1</td>\n",
       "    </tr>\n",
       "    <tr>\n",
       "      <th>306831</th>\n",
       "      <td>2000-01-03</td>\n",
       "      <td>ELET6</td>\n",
       "      <td>42.58</td>\n",
       "      <td>41.99</td>\n",
       "      <td>44.70</td>\n",
       "      <td>41.00</td>\n",
       "      <td>27195246.00</td>\n",
       "      <td>0.013856</td>\n",
       "      <td>1</td>\n",
       "    </tr>\n",
       "  </tbody>\n",
       "</table>\n",
       "</div>"
      ],
      "text/plain": [
       "         datetime ticker    open   close    high     low       volume  \\\n",
       "306827 2000-01-04  BBDC3   10.70   10.11   10.70   10.11    712264.00   \n",
       "306828 2000-01-04  BBDC4   13.97   13.00   13.97   13.00  18227635.00   \n",
       "306829 2000-01-03  CSNA3   70.00   73.00   73.00   69.00   1428849.00   \n",
       "306830 2000-01-03  CRTP5  315.00  307.50  315.00  303.00    477392.83   \n",
       "306831 2000-01-03  ELET6   42.58   41.99   44.70   41.00  27195246.00   \n",
       "\n",
       "        delta_open  delta_side  \n",
       "306827    0.055140           1  \n",
       "306828    0.069435           1  \n",
       "306829    0.042857          -1  \n",
       "306830    0.023810           1  \n",
       "306831    0.013856           1  "
      ]
     },
     "execution_count": 27,
     "metadata": {},
     "output_type": "execute_result"
    }
   ],
   "source": [
    "df.head()"
   ]
  },
  {
   "cell_type": "code",
   "execution_count": 53,
   "id": "f9d7dbc3",
   "metadata": {},
   "outputs": [],
   "source": [
    "df_daily = df.groupby('datetime').agg(\n",
    "    {\n",
    "        'delta_open':['mean','std'],\n",
    "        'volume': 'mean',\n",
    "        'delta_side': [how_many_went_up, how_many_went_down]}\n",
    ")"
   ]
  },
  {
   "cell_type": "markdown",
   "id": "b7a93b27",
   "metadata": {},
   "source": [
    "Renaming the columns"
   ]
  },
  {
   "cell_type": "code",
   "execution_count": 54,
   "id": "f2633646",
   "metadata": {},
   "outputs": [],
   "source": [
    "df_daily.columns = df_daily.columns.to_flat_index()\n",
    "df_daily.rename(\n",
    "    columns={\n",
    "        ('delta_open', 'mean'): 'variation_mean',\n",
    "        ('delta_open', 'std'): 'variation_std',\n",
    "        ('volume', 'mean'): 'volume_mean',\n",
    "        ('delta_side', 'how_many_went_up'): 'up_count',\n",
    "        ('delta_side', 'how_many_went_down'): 'down_count',\n",
    "    }, inplace = True\n",
    ")"
   ]
  },
  {
   "cell_type": "markdown",
   "id": "66e7045e",
   "metadata": {},
   "source": [
    "Getting the mean variation of the 15 most important stocks"
   ]
  },
  {
   "cell_type": "code",
   "execution_count": 55,
   "id": "35ff956a",
   "metadata": {},
   "outputs": [],
   "source": [
    "df_top_15 = df.loc[df['ticker'].isin(top_15)]\n",
    "daily_df_top_15 = df_top_15.groupby('datetime').agg({'delta_open': 'mean'})\n",
    "daily_df_top_15.rename(columns= {'delta_open': 'top_15_variation_mean'}, inplace = True)"
   ]
  },
  {
   "cell_type": "markdown",
   "id": "bc7d1b1b",
   "metadata": {},
   "source": [
    "joining if the df_daily dataset"
   ]
  },
  {
   "cell_type": "code",
   "execution_count": 56,
   "id": "9b10a24e",
   "metadata": {},
   "outputs": [],
   "source": [
    "df_daily = pd.merge(df_daily, daily_df_top_15, on='datetime')\n",
    "df_daily.reset_index(inplace=True)"
   ]
  },
  {
   "cell_type": "code",
   "execution_count": 57,
   "id": "92fae0d9",
   "metadata": {},
   "outputs": [
    {
     "data": {
      "text/html": [
       "<div>\n",
       "<style scoped>\n",
       "    .dataframe tbody tr th:only-of-type {\n",
       "        vertical-align: middle;\n",
       "    }\n",
       "\n",
       "    .dataframe tbody tr th {\n",
       "        vertical-align: top;\n",
       "    }\n",
       "\n",
       "    .dataframe thead th {\n",
       "        text-align: right;\n",
       "    }\n",
       "</style>\n",
       "<table border=\"1\" class=\"dataframe\">\n",
       "  <thead>\n",
       "    <tr style=\"text-align: right;\">\n",
       "      <th></th>\n",
       "      <th>datetime</th>\n",
       "      <th>variation_mean</th>\n",
       "      <th>variation_std</th>\n",
       "      <th>volume_mean</th>\n",
       "      <th>up_count</th>\n",
       "      <th>down_count</th>\n",
       "      <th>top_15_variation_mean</th>\n",
       "    </tr>\n",
       "  </thead>\n",
       "  <tbody>\n",
       "    <tr>\n",
       "      <th>0</th>\n",
       "      <td>2000-01-03</td>\n",
       "      <td>0.036323</td>\n",
       "      <td>0.099874</td>\n",
       "      <td>2.738140e+06</td>\n",
       "      <td>0.393805</td>\n",
       "      <td>0.336283</td>\n",
       "      <td>0.016457</td>\n",
       "    </tr>\n",
       "    <tr>\n",
       "      <th>1</th>\n",
       "      <td>2000-01-04</td>\n",
       "      <td>0.036183</td>\n",
       "      <td>0.067482</td>\n",
       "      <td>2.893430e+06</td>\n",
       "      <td>0.551724</td>\n",
       "      <td>0.137931</td>\n",
       "      <td>0.041053</td>\n",
       "    </tr>\n",
       "    <tr>\n",
       "      <th>2</th>\n",
       "      <td>2000-01-05</td>\n",
       "      <td>0.034812</td>\n",
       "      <td>0.052151</td>\n",
       "      <td>4.228136e+06</td>\n",
       "      <td>0.138211</td>\n",
       "      <td>0.589431</td>\n",
       "      <td>0.028798</td>\n",
       "    </tr>\n",
       "    <tr>\n",
       "      <th>3</th>\n",
       "      <td>2000-01-06</td>\n",
       "      <td>0.029942</td>\n",
       "      <td>0.070373</td>\n",
       "      <td>3.246791e+06</td>\n",
       "      <td>0.323741</td>\n",
       "      <td>0.359712</td>\n",
       "      <td>0.010690</td>\n",
       "    </tr>\n",
       "    <tr>\n",
       "      <th>4</th>\n",
       "      <td>2000-01-07</td>\n",
       "      <td>0.025156</td>\n",
       "      <td>0.045434</td>\n",
       "      <td>2.368776e+06</td>\n",
       "      <td>0.293478</td>\n",
       "      <td>0.326087</td>\n",
       "      <td>0.014791</td>\n",
       "    </tr>\n",
       "    <tr>\n",
       "      <th>...</th>\n",
       "      <td>...</td>\n",
       "      <td>...</td>\n",
       "      <td>...</td>\n",
       "      <td>...</td>\n",
       "      <td>...</td>\n",
       "      <td>...</td>\n",
       "      <td>...</td>\n",
       "    </tr>\n",
       "    <tr>\n",
       "      <th>5193</th>\n",
       "      <td>2020-12-22</td>\n",
       "      <td>0.014322</td>\n",
       "      <td>0.028736</td>\n",
       "      <td>2.959592e+07</td>\n",
       "      <td>0.464236</td>\n",
       "      <td>0.347826</td>\n",
       "      <td>0.011171</td>\n",
       "    </tr>\n",
       "    <tr>\n",
       "      <th>5194</th>\n",
       "      <td>2020-12-23</td>\n",
       "      <td>0.015095</td>\n",
       "      <td>0.019468</td>\n",
       "      <td>2.784140e+07</td>\n",
       "      <td>0.277465</td>\n",
       "      <td>0.525352</td>\n",
       "      <td>0.014803</td>\n",
       "    </tr>\n",
       "    <tr>\n",
       "      <th>5195</th>\n",
       "      <td>2020-12-28</td>\n",
       "      <td>0.013466</td>\n",
       "      <td>0.020737</td>\n",
       "      <td>2.554248e+07</td>\n",
       "      <td>0.379795</td>\n",
       "      <td>0.457801</td>\n",
       "      <td>0.009518</td>\n",
       "    </tr>\n",
       "    <tr>\n",
       "      <th>5196</th>\n",
       "      <td>2020-12-29</td>\n",
       "      <td>0.013948</td>\n",
       "      <td>0.051182</td>\n",
       "      <td>2.469294e+07</td>\n",
       "      <td>0.465517</td>\n",
       "      <td>0.364721</td>\n",
       "      <td>0.007166</td>\n",
       "    </tr>\n",
       "    <tr>\n",
       "      <th>5197</th>\n",
       "      <td>2020-12-30</td>\n",
       "      <td>0.015300</td>\n",
       "      <td>0.023105</td>\n",
       "      <td>3.893636e+07</td>\n",
       "      <td>0.469697</td>\n",
       "      <td>0.370523</td>\n",
       "      <td>0.011723</td>\n",
       "    </tr>\n",
       "  </tbody>\n",
       "</table>\n",
       "<p>5198 rows × 7 columns</p>\n",
       "</div>"
      ],
      "text/plain": [
       "       datetime  variation_mean  variation_std   volume_mean  up_count  \\\n",
       "0    2000-01-03        0.036323       0.099874  2.738140e+06  0.393805   \n",
       "1    2000-01-04        0.036183       0.067482  2.893430e+06  0.551724   \n",
       "2    2000-01-05        0.034812       0.052151  4.228136e+06  0.138211   \n",
       "3    2000-01-06        0.029942       0.070373  3.246791e+06  0.323741   \n",
       "4    2000-01-07        0.025156       0.045434  2.368776e+06  0.293478   \n",
       "...         ...             ...            ...           ...       ...   \n",
       "5193 2020-12-22        0.014322       0.028736  2.959592e+07  0.464236   \n",
       "5194 2020-12-23        0.015095       0.019468  2.784140e+07  0.277465   \n",
       "5195 2020-12-28        0.013466       0.020737  2.554248e+07  0.379795   \n",
       "5196 2020-12-29        0.013948       0.051182  2.469294e+07  0.465517   \n",
       "5197 2020-12-30        0.015300       0.023105  3.893636e+07  0.469697   \n",
       "\n",
       "      down_count  top_15_variation_mean  \n",
       "0       0.336283               0.016457  \n",
       "1       0.137931               0.041053  \n",
       "2       0.589431               0.028798  \n",
       "3       0.359712               0.010690  \n",
       "4       0.326087               0.014791  \n",
       "...          ...                    ...  \n",
       "5193    0.347826               0.011171  \n",
       "5194    0.525352               0.014803  \n",
       "5195    0.457801               0.009518  \n",
       "5196    0.364721               0.007166  \n",
       "5197    0.370523               0.011723  \n",
       "\n",
       "[5198 rows x 7 columns]"
      ]
     },
     "execution_count": 57,
     "metadata": {},
     "output_type": "execute_result"
    }
   ],
   "source": [
    "df_daily"
   ]
  },
  {
   "cell_type": "code",
   "execution_count": 58,
   "id": "d1e2ecd8",
   "metadata": {},
   "outputs": [
    {
     "data": {
      "text/plain": [
       "<seaborn.axisgrid.FacetGrid at 0x13f6303a0>"
      ]
     },
     "execution_count": 58,
     "metadata": {},
     "output_type": "execute_result"
    },
    {
     "data": {
      "image/png": "[encoded data removed]",
      "text/plain": [
       "<Figure size 360x360 with 1 Axes>"
      ]
     },
     "metadata": {
      "needs_background": "light"
     },
     "output_type": "display_data"
    }
   ],
   "source": [
    "sns.relplot(x=\"datetime\", y=\"variation_mean\", data=df_daily.loc[df_daily['datetime'] > '2020'])"
   ]
  },
  {
   "cell_type": "code",
   "execution_count": 59,
   "id": "27aeb46a",
   "metadata": {},
   "outputs": [
    {
     "data": {
      "text/plain": [
       "<seaborn.axisgrid.FacetGrid at 0x13f961c10>"
      ]
     },
     "execution_count": 59,
     "metadata": {},
     "output_type": "execute_result"
    },
    {
     "data": {
      "image/png": "[encoded data removed]",
      "text/plain": [
       "<Figure size 360x360 with 1 Axes>"
      ]
     },
     "metadata": {
      "needs_background": "light"
     },
     "output_type": "display_data"
    }
   ],
   "source": [
    "# Normalizing volume mean\n",
    "df_daily['volume_mean'] = MinMaxScaler().fit_transform(df_daily[['volume_mean']])\n",
    "sns.relplot(x=\"datetime\", y=\"volume_mean\", data=df_daily.loc[df_daily['datetime'] > '2020'])"
   ]
  },
  {
   "cell_type": "markdown",
   "id": "d6364278",
   "metadata": {},
   "source": [
    "### Outlier Detection"
   ]
  },
  {
   "cell_type": "code",
   "execution_count": 61,
   "id": "9867f62a",
   "metadata": {},
   "outputs": [
    {
     "data": {
      "image/png": "[encoded data removed]",
      "text/plain": [
       "<Figure size 576x432 with 1 Axes>"
      ]
     },
     "metadata": {
      "needs_background": "light"
     },
     "output_type": "display_data"
    }
   ],
   "source": [
    "df_2020 = df_daily.loc[df_daily['datetime'] > '2020'].set_index('datetime')\n",
    "scores_low = get_LOF_scores(df_2020, n_neighbors=40, contamination=0.5)\n",
    "\n",
    "# Para plotar o grafico, o datetime não pode ser a index do dataset\n",
    "scores_low.reset_index(inplace=True)\n",
    "show_2D_outliers(scores_low, x = 'datetime', y = 'variation_mean', scores = 'LOF_score', title = 'Delta open low')"
   ]
  },
  {
   "cell_type": "code",
   "execution_count": 62,
   "id": "40f74648",
   "metadata": {},
   "outputs": [
    {
     "ename": "TypeError",
     "evalue": "The DType <class 'numpy.dtype[datetime64]'> could not be promoted by <class 'numpy.dtype[float64]'>. This means that no common DType exists for the given inputs. For example they cannot be stored in a single array unless the dtype is `object`. The full list of DTypes is: (<class 'numpy.dtype[datetime64]'>, <class 'numpy.dtype[float64]'>, <class 'numpy.dtype[float64]'>, <class 'numpy.dtype[float64]'>, <class 'numpy.dtype[float64]'>, <class 'numpy.dtype[float64]'>, <class 'numpy.dtype[float64]'>, <class 'numpy.dtype[int64]'>)",
     "output_type": "error",
     "traceback": [
      "\u001b[0;31m---------------------------------------------------------------------------\u001b[0m",
      "\u001b[0;31mTypeError\u001b[0m                                 Traceback (most recent call last)",
      "\u001b[0;32m/var/folders/fq/0s3sdjd50r79swwqd52gm5xh0000gn/T/ipykernel_88331/578126692.py\u001b[0m in \u001b[0;36m<module>\u001b[0;34m\u001b[0m\n\u001b[0;32m----> 1\u001b[0;31m \u001b[0mscores_low\u001b[0m \u001b[0;34m=\u001b[0m \u001b[0mget_LOF_scores\u001b[0m\u001b[0;34m(\u001b[0m\u001b[0mdf_2020\u001b[0m\u001b[0;34m.\u001b[0m\u001b[0mdrop\u001b[0m\u001b[0;34m(\u001b[0m\u001b[0mcolumns\u001b[0m\u001b[0;34m=\u001b[0m\u001b[0;34m[\u001b[0m\u001b[0;34m'volume_mean'\u001b[0m\u001b[0;34m]\u001b[0m\u001b[0;34m)\u001b[0m\u001b[0;34m,\u001b[0m \u001b[0mn_neighbors\u001b[0m\u001b[0;34m=\u001b[0m\u001b[0;36m40\u001b[0m\u001b[0;34m,\u001b[0m \u001b[0mcontamination\u001b[0m\u001b[0;34m=\u001b[0m\u001b[0;36m0.5\u001b[0m\u001b[0;34m)\u001b[0m\u001b[0;34m\u001b[0m\u001b[0;34m\u001b[0m\u001b[0m\n\u001b[0m\u001b[1;32m      2\u001b[0m \u001b[0mscores_low\u001b[0m\u001b[0;34m.\u001b[0m\u001b[0mreset_index\u001b[0m\u001b[0;34m(\u001b[0m\u001b[0minplace\u001b[0m\u001b[0;34m=\u001b[0m\u001b[0;32mTrue\u001b[0m\u001b[0;34m)\u001b[0m\u001b[0;34m\u001b[0m\u001b[0;34m\u001b[0m\u001b[0m\n\u001b[1;32m      3\u001b[0m \u001b[0mshow_2D_outliers\u001b[0m\u001b[0;34m(\u001b[0m\u001b[0mscores_low\u001b[0m\u001b[0;34m,\u001b[0m \u001b[0mx\u001b[0m \u001b[0;34m=\u001b[0m \u001b[0;34m'datetime'\u001b[0m\u001b[0;34m,\u001b[0m \u001b[0my\u001b[0m \u001b[0;34m=\u001b[0m \u001b[0;34m'variation_mean'\u001b[0m\u001b[0;34m,\u001b[0m \u001b[0mscores\u001b[0m \u001b[0;34m=\u001b[0m \u001b[0;34m'LOF_score'\u001b[0m\u001b[0;34m,\u001b[0m \u001b[0mtitle\u001b[0m \u001b[0;34m=\u001b[0m \u001b[0;34m'Delta open low'\u001b[0m\u001b[0;34m)\u001b[0m\u001b[0;34m\u001b[0m\u001b[0;34m\u001b[0m\u001b[0m\n",
      "\u001b[0;32m/var/folders/fq/0s3sdjd50r79swwqd52gm5xh0000gn/T/ipykernel_88331/889705522.py\u001b[0m in \u001b[0;36mget_LOF_scores\u001b[0;34m(df, n_neighbors, contamination)\u001b[0m\n\u001b[1;32m      7\u001b[0m     \u001b[0;31m# (when LOF is used for outlier detection, the estimator has no predict,\u001b[0m\u001b[0;34m\u001b[0m\u001b[0;34m\u001b[0m\u001b[0;34m\u001b[0m\u001b[0m\n\u001b[1;32m      8\u001b[0m     \u001b[0;31m# decision_function and score_samples methods).\u001b[0m\u001b[0;34m\u001b[0m\u001b[0;34m\u001b[0m\u001b[0;34m\u001b[0m\u001b[0m\n\u001b[0;32m----> 9\u001b[0;31m     \u001b[0my_pred\u001b[0m \u001b[0;34m=\u001b[0m \u001b[0mclf\u001b[0m\u001b[0;34m.\u001b[0m\u001b[0mfit_predict\u001b[0m\u001b[0;34m(\u001b[0m\u001b[0mdf\u001b[0m\u001b[0;34m)\u001b[0m\u001b[0;34m\u001b[0m\u001b[0;34m\u001b[0m\u001b[0m\n\u001b[0m\u001b[1;32m     10\u001b[0m \u001b[0;34m\u001b[0m\u001b[0m\n\u001b[1;32m     11\u001b[0m     \u001b[0mX_scores\u001b[0m \u001b[0;34m=\u001b[0m \u001b[0mclf\u001b[0m\u001b[0;34m.\u001b[0m\u001b[0mnegative_outlier_factor_\u001b[0m\u001b[0;34m\u001b[0m\u001b[0;34m\u001b[0m\u001b[0m\n",
      "\u001b[0;32m~/miniforge3/envs/work/lib/python3.9/site-packages/sklearn/neighbors/_lof.py\u001b[0m in \u001b[0;36m_fit_predict\u001b[0;34m(self, X, y)\u001b[0m\n\u001b[1;32m    244\u001b[0m         \u001b[0;31m# only available for outlier detection (novelty=False)\u001b[0m\u001b[0;34m\u001b[0m\u001b[0;34m\u001b[0m\u001b[0;34m\u001b[0m\u001b[0m\n\u001b[1;32m    245\u001b[0m \u001b[0;34m\u001b[0m\u001b[0m\n\u001b[0;32m--> 246\u001b[0;31m         \u001b[0;32mreturn\u001b[0m \u001b[0mself\u001b[0m\u001b[0;34m.\u001b[0m\u001b[0mfit\u001b[0m\u001b[0;34m(\u001b[0m\u001b[0mX\u001b[0m\u001b[0;34m)\u001b[0m\u001b[0;34m.\u001b[0m\u001b[0m_predict\u001b[0m\u001b[0;34m(\u001b[0m\u001b[0;34m)\u001b[0m\u001b[0;34m\u001b[0m\u001b[0;34m\u001b[0m\u001b[0m\n\u001b[0m\u001b[1;32m    247\u001b[0m \u001b[0;34m\u001b[0m\u001b[0m\n\u001b[1;32m    248\u001b[0m     \u001b[0;32mdef\u001b[0m \u001b[0mfit\u001b[0m\u001b[0;34m(\u001b[0m\u001b[0mself\u001b[0m\u001b[0;34m,\u001b[0m \u001b[0mX\u001b[0m\u001b[0;34m,\u001b[0m \u001b[0my\u001b[0m\u001b[0;34m=\u001b[0m\u001b[0;32mNone\u001b[0m\u001b[0;34m)\u001b[0m\u001b[0;34m:\u001b[0m\u001b[0;34m\u001b[0m\u001b[0;34m\u001b[0m\u001b[0m\n",
      "\u001b[0;32m~/miniforge3/envs/work/lib/python3.9/site-packages/sklearn/neighbors/_lof.py\u001b[0m in \u001b[0;36mfit\u001b[0;34m(self, X, y)\u001b[0m\n\u001b[1;32m    263\u001b[0m             \u001b[0mThe\u001b[0m \u001b[0mfitted\u001b[0m \u001b[0mlocal\u001b[0m \u001b[0moutlier\u001b[0m \u001b[0mfactor\u001b[0m \u001b[0mdetector\u001b[0m\u001b[0;34m.\u001b[0m\u001b[0;34m\u001b[0m\u001b[0;34m\u001b[0m\u001b[0m\n\u001b[1;32m    264\u001b[0m         \"\"\"\n\u001b[0;32m--> 265\u001b[0;31m         \u001b[0mself\u001b[0m\u001b[0;34m.\u001b[0m\u001b[0m_fit\u001b[0m\u001b[0;34m(\u001b[0m\u001b[0mX\u001b[0m\u001b[0;34m)\u001b[0m\u001b[0;34m\u001b[0m\u001b[0;34m\u001b[0m\u001b[0m\n\u001b[0m\u001b[1;32m    266\u001b[0m \u001b[0;34m\u001b[0m\u001b[0m\n\u001b[1;32m    267\u001b[0m         \u001b[0;32mif\u001b[0m \u001b[0mself\u001b[0m\u001b[0;34m.\u001b[0m\u001b[0mcontamination\u001b[0m \u001b[0;34m!=\u001b[0m \u001b[0;34m'auto'\u001b[0m\u001b[0;34m:\u001b[0m\u001b[0;34m\u001b[0m\u001b[0;34m\u001b[0m\u001b[0m\n",
      "\u001b[0;32m~/miniforge3/envs/work/lib/python3.9/site-packages/sklearn/neighbors/_base.py\u001b[0m in \u001b[0;36m_fit\u001b[0;34m(self, X, y)\u001b[0m\n\u001b[1;32m    395\u001b[0m         \u001b[0;32melse\u001b[0m\u001b[0;34m:\u001b[0m\u001b[0;34m\u001b[0m\u001b[0;34m\u001b[0m\u001b[0m\n\u001b[1;32m    396\u001b[0m             \u001b[0;32mif\u001b[0m \u001b[0;32mnot\u001b[0m \u001b[0misinstance\u001b[0m\u001b[0;34m(\u001b[0m\u001b[0mX\u001b[0m\u001b[0;34m,\u001b[0m \u001b[0;34m(\u001b[0m\u001b[0mKDTree\u001b[0m\u001b[0;34m,\u001b[0m \u001b[0mBallTree\u001b[0m\u001b[0;34m,\u001b[0m \u001b[0mNeighborsBase\u001b[0m\u001b[0;34m)\u001b[0m\u001b[0;34m)\u001b[0m\u001b[0;34m:\u001b[0m\u001b[0;34m\u001b[0m\u001b[0;34m\u001b[0m\u001b[0m\n\u001b[0;32m--> 397\u001b[0;31m                 \u001b[0mX\u001b[0m \u001b[0;34m=\u001b[0m \u001b[0mself\u001b[0m\u001b[0;34m.\u001b[0m\u001b[0m_validate_data\u001b[0m\u001b[0;34m(\u001b[0m\u001b[0mX\u001b[0m\u001b[0;34m,\u001b[0m \u001b[0maccept_sparse\u001b[0m\u001b[0;34m=\u001b[0m\u001b[0;34m'csr'\u001b[0m\u001b[0;34m)\u001b[0m\u001b[0;34m\u001b[0m\u001b[0;34m\u001b[0m\u001b[0m\n\u001b[0m\u001b[1;32m    398\u001b[0m \u001b[0;34m\u001b[0m\u001b[0m\n\u001b[1;32m    399\u001b[0m         \u001b[0mself\u001b[0m\u001b[0;34m.\u001b[0m\u001b[0m_check_algorithm_metric\u001b[0m\u001b[0;34m(\u001b[0m\u001b[0;34m)\u001b[0m\u001b[0;34m\u001b[0m\u001b[0;34m\u001b[0m\u001b[0m\n",
      "\u001b[0;32m~/miniforge3/envs/work/lib/python3.9/site-packages/sklearn/base.py\u001b[0m in \u001b[0;36m_validate_data\u001b[0;34m(self, X, y, reset, validate_separately, **check_params)\u001b[0m\n\u001b[1;32m    419\u001b[0m             \u001b[0mout\u001b[0m \u001b[0;34m=\u001b[0m \u001b[0mX\u001b[0m\u001b[0;34m\u001b[0m\u001b[0;34m\u001b[0m\u001b[0m\n\u001b[1;32m    420\u001b[0m         \u001b[0;32melif\u001b[0m \u001b[0misinstance\u001b[0m\u001b[0;34m(\u001b[0m\u001b[0my\u001b[0m\u001b[0;34m,\u001b[0m \u001b[0mstr\u001b[0m\u001b[0;34m)\u001b[0m \u001b[0;32mand\u001b[0m \u001b[0my\u001b[0m \u001b[0;34m==\u001b[0m \u001b[0;34m'no_validation'\u001b[0m\u001b[0;34m:\u001b[0m\u001b[0;34m\u001b[0m\u001b[0;34m\u001b[0m\u001b[0m\n\u001b[0;32m--> 421\u001b[0;31m             \u001b[0mX\u001b[0m \u001b[0;34m=\u001b[0m \u001b[0mcheck_array\u001b[0m\u001b[0;34m(\u001b[0m\u001b[0mX\u001b[0m\u001b[0;34m,\u001b[0m \u001b[0;34m**\u001b[0m\u001b[0mcheck_params\u001b[0m\u001b[0;34m)\u001b[0m\u001b[0;34m\u001b[0m\u001b[0;34m\u001b[0m\u001b[0m\n\u001b[0m\u001b[1;32m    422\u001b[0m             \u001b[0mout\u001b[0m \u001b[0;34m=\u001b[0m \u001b[0mX\u001b[0m\u001b[0;34m\u001b[0m\u001b[0;34m\u001b[0m\u001b[0m\n\u001b[1;32m    423\u001b[0m         \u001b[0;32melse\u001b[0m\u001b[0;34m:\u001b[0m\u001b[0;34m\u001b[0m\u001b[0;34m\u001b[0m\u001b[0m\n",
      "\u001b[0;32m~/miniforge3/envs/work/lib/python3.9/site-packages/sklearn/utils/validation.py\u001b[0m in \u001b[0;36minner_f\u001b[0;34m(*args, **kwargs)\u001b[0m\n\u001b[1;32m     61\u001b[0m             \u001b[0mextra_args\u001b[0m \u001b[0;34m=\u001b[0m \u001b[0mlen\u001b[0m\u001b[0;34m(\u001b[0m\u001b[0margs\u001b[0m\u001b[0;34m)\u001b[0m \u001b[0;34m-\u001b[0m \u001b[0mlen\u001b[0m\u001b[0;34m(\u001b[0m\u001b[0mall_args\u001b[0m\u001b[0;34m)\u001b[0m\u001b[0;34m\u001b[0m\u001b[0;34m\u001b[0m\u001b[0m\n\u001b[1;32m     62\u001b[0m             \u001b[0;32mif\u001b[0m \u001b[0mextra_args\u001b[0m \u001b[0;34m<=\u001b[0m \u001b[0;36m0\u001b[0m\u001b[0;34m:\u001b[0m\u001b[0;34m\u001b[0m\u001b[0;34m\u001b[0m\u001b[0m\n\u001b[0;32m---> 63\u001b[0;31m                 \u001b[0;32mreturn\u001b[0m \u001b[0mf\u001b[0m\u001b[0;34m(\u001b[0m\u001b[0;34m*\u001b[0m\u001b[0margs\u001b[0m\u001b[0;34m,\u001b[0m \u001b[0;34m**\u001b[0m\u001b[0mkwargs\u001b[0m\u001b[0;34m)\u001b[0m\u001b[0;34m\u001b[0m\u001b[0;34m\u001b[0m\u001b[0m\n\u001b[0m\u001b[1;32m     64\u001b[0m \u001b[0;34m\u001b[0m\u001b[0m\n\u001b[1;32m     65\u001b[0m             \u001b[0;31m# extra_args > 0\u001b[0m\u001b[0;34m\u001b[0m\u001b[0;34m\u001b[0m\u001b[0;34m\u001b[0m\u001b[0m\n",
      "\u001b[0;32m~/miniforge3/envs/work/lib/python3.9/site-packages/sklearn/utils/validation.py\u001b[0m in \u001b[0;36mcheck_array\u001b[0;34m(array, accept_sparse, accept_large_sparse, dtype, order, copy, force_all_finite, ensure_2d, allow_nd, ensure_min_samples, ensure_min_features, estimator)\u001b[0m\n\u001b[1;32m    595\u001b[0m \u001b[0;34m\u001b[0m\u001b[0m\n\u001b[1;32m    596\u001b[0m         \u001b[0;32mif\u001b[0m \u001b[0mall\u001b[0m\u001b[0;34m(\u001b[0m\u001b[0misinstance\u001b[0m\u001b[0;34m(\u001b[0m\u001b[0mdtype\u001b[0m\u001b[0;34m,\u001b[0m \u001b[0mnp\u001b[0m\u001b[0;34m.\u001b[0m\u001b[0mdtype\u001b[0m\u001b[0;34m)\u001b[0m \u001b[0;32mfor\u001b[0m \u001b[0mdtype\u001b[0m \u001b[0;32min\u001b[0m \u001b[0mdtypes_orig\u001b[0m\u001b[0;34m)\u001b[0m\u001b[0;34m:\u001b[0m\u001b[0;34m\u001b[0m\u001b[0;34m\u001b[0m\u001b[0m\n\u001b[0;32m--> 597\u001b[0;31m             \u001b[0mdtype_orig\u001b[0m \u001b[0;34m=\u001b[0m \u001b[0mnp\u001b[0m\u001b[0;34m.\u001b[0m\u001b[0mresult_type\u001b[0m\u001b[0;34m(\u001b[0m\u001b[0;34m*\u001b[0m\u001b[0mdtypes_orig\u001b[0m\u001b[0;34m)\u001b[0m\u001b[0;34m\u001b[0m\u001b[0;34m\u001b[0m\u001b[0m\n\u001b[0m\u001b[1;32m    598\u001b[0m \u001b[0;34m\u001b[0m\u001b[0m\n\u001b[1;32m    599\u001b[0m     \u001b[0;32mif\u001b[0m \u001b[0mdtype_numeric\u001b[0m\u001b[0;34m:\u001b[0m\u001b[0;34m\u001b[0m\u001b[0;34m\u001b[0m\u001b[0m\n",
      "\u001b[0;32m<__array_function__ internals>\u001b[0m in \u001b[0;36mresult_type\u001b[0;34m(*args, **kwargs)\u001b[0m\n",
      "\u001b[0;31mTypeError\u001b[0m: The DType <class 'numpy.dtype[datetime64]'> could not be promoted by <class 'numpy.dtype[float64]'>. This means that no common DType exists for the given inputs. For example they cannot be stored in a single array unless the dtype is `object`. The full list of DTypes is: (<class 'numpy.dtype[datetime64]'>, <class 'numpy.dtype[float64]'>, <class 'numpy.dtype[float64]'>, <class 'numpy.dtype[float64]'>, <class 'numpy.dtype[float64]'>, <class 'numpy.dtype[float64]'>, <class 'numpy.dtype[float64]'>, <class 'numpy.dtype[int64]'>)"
     ]
    }
   ],
   "source": [
    "df_2020 = df_daily.loc[df_daily['datetime'] > '2020'].set_index('datetime')\n",
    "scores_low = get_LOF_scores(df_2020.drop(columns=['volume_mean']), n_neighbors=40, contamination=0.5)\n",
    "scores_low.reset_index(inplace=True)\n",
    "show_2D_outliers(scores_low, x = 'datetime', y = 'variation_mean', scores = 'LOF_score', title = 'Delta open low')"
   ]
  },
  {
   "cell_type": "code",
   "execution_count": 42,
   "id": "10a76d88",
   "metadata": {},
   "outputs": [
    {
     "data": {
      "text/html": [
       "<div>\n",
       "<style scoped>\n",
       "    .dataframe tbody tr th:only-of-type {\n",
       "        vertical-align: middle;\n",
       "    }\n",
       "\n",
       "    .dataframe tbody tr th {\n",
       "        vertical-align: top;\n",
       "    }\n",
       "\n",
       "    .dataframe thead th {\n",
       "        text-align: right;\n",
       "    }\n",
       "</style>\n",
       "<table border=\"1\" class=\"dataframe\">\n",
       "  <thead>\n",
       "    <tr style=\"text-align: right;\">\n",
       "      <th></th>\n",
       "      <th>variation_mean</th>\n",
       "      <th>variation_std</th>\n",
       "      <th>volume_mean</th>\n",
       "      <th>up_count</th>\n",
       "      <th>down_count</th>\n",
       "      <th>top_15_variation_mean</th>\n",
       "      <th>LOF_score</th>\n",
       "      <th>LOF_predictions</th>\n",
       "    </tr>\n",
       "    <tr>\n",
       "      <th>datetime</th>\n",
       "      <th></th>\n",
       "      <th></th>\n",
       "      <th></th>\n",
       "      <th></th>\n",
       "      <th></th>\n",
       "      <th></th>\n",
       "      <th></th>\n",
       "      <th></th>\n",
       "    </tr>\n",
       "  </thead>\n",
       "  <tbody>\n",
       "    <tr>\n",
       "      <th>2020-01-02</th>\n",
       "      <td>0.022111</td>\n",
       "      <td>0.040247</td>\n",
       "      <td>0.364707</td>\n",
       "      <td>0.267500</td>\n",
       "      <td>0.572500</td>\n",
       "      <td>0.019942</td>\n",
       "      <td>-1.028385</td>\n",
       "      <td>1</td>\n",
       "    </tr>\n",
       "    <tr>\n",
       "      <th>2020-01-03</th>\n",
       "      <td>0.018378</td>\n",
       "      <td>0.026846</td>\n",
       "      <td>0.444251</td>\n",
       "      <td>0.244726</td>\n",
       "      <td>0.527426</td>\n",
       "      <td>0.015803</td>\n",
       "      <td>-1.123559</td>\n",
       "      <td>-1</td>\n",
       "    </tr>\n",
       "    <tr>\n",
       "      <th>2020-01-06</th>\n",
       "      <td>0.013982</td>\n",
       "      <td>0.021030</td>\n",
       "      <td>0.402859</td>\n",
       "      <td>0.382845</td>\n",
       "      <td>0.389121</td>\n",
       "      <td>0.012998</td>\n",
       "      <td>-1.077647</td>\n",
       "      <td>-1</td>\n",
       "    </tr>\n",
       "    <tr>\n",
       "      <th>2020-01-07</th>\n",
       "      <td>0.018523</td>\n",
       "      <td>0.035131</td>\n",
       "      <td>0.317816</td>\n",
       "      <td>0.403153</td>\n",
       "      <td>0.396396</td>\n",
       "      <td>0.013190</td>\n",
       "      <td>-1.007626</td>\n",
       "      <td>1</td>\n",
       "    </tr>\n",
       "    <tr>\n",
       "      <th>2020-01-08</th>\n",
       "      <td>0.014198</td>\n",
       "      <td>0.032190</td>\n",
       "      <td>0.357783</td>\n",
       "      <td>0.446809</td>\n",
       "      <td>0.321277</td>\n",
       "      <td>0.015617</td>\n",
       "      <td>-0.955317</td>\n",
       "      <td>1</td>\n",
       "    </tr>\n",
       "    <tr>\n",
       "      <th>...</th>\n",
       "      <td>...</td>\n",
       "      <td>...</td>\n",
       "      <td>...</td>\n",
       "      <td>...</td>\n",
       "      <td>...</td>\n",
       "      <td>...</td>\n",
       "      <td>...</td>\n",
       "      <td>...</td>\n",
       "    </tr>\n",
       "    <tr>\n",
       "      <th>2020-12-22</th>\n",
       "      <td>0.014322</td>\n",
       "      <td>0.028736</td>\n",
       "      <td>0.219796</td>\n",
       "      <td>0.464236</td>\n",
       "      <td>0.347826</td>\n",
       "      <td>0.011171</td>\n",
       "      <td>-1.246826</td>\n",
       "      <td>-1</td>\n",
       "    </tr>\n",
       "    <tr>\n",
       "      <th>2020-12-23</th>\n",
       "      <td>0.015095</td>\n",
       "      <td>0.019468</td>\n",
       "      <td>0.206458</td>\n",
       "      <td>0.277465</td>\n",
       "      <td>0.525352</td>\n",
       "      <td>0.014803</td>\n",
       "      <td>-1.463560</td>\n",
       "      <td>-1</td>\n",
       "    </tr>\n",
       "    <tr>\n",
       "      <th>2020-12-28</th>\n",
       "      <td>0.013466</td>\n",
       "      <td>0.020737</td>\n",
       "      <td>0.188982</td>\n",
       "      <td>0.379795</td>\n",
       "      <td>0.457801</td>\n",
       "      <td>0.009518</td>\n",
       "      <td>-1.322092</td>\n",
       "      <td>-1</td>\n",
       "    </tr>\n",
       "    <tr>\n",
       "      <th>2020-12-29</th>\n",
       "      <td>0.013948</td>\n",
       "      <td>0.051182</td>\n",
       "      <td>0.182524</td>\n",
       "      <td>0.465517</td>\n",
       "      <td>0.364721</td>\n",
       "      <td>0.007166</td>\n",
       "      <td>-1.445545</td>\n",
       "      <td>-1</td>\n",
       "    </tr>\n",
       "    <tr>\n",
       "      <th>2020-12-30</th>\n",
       "      <td>0.015300</td>\n",
       "      <td>0.023105</td>\n",
       "      <td>0.290802</td>\n",
       "      <td>0.469697</td>\n",
       "      <td>0.370523</td>\n",
       "      <td>0.011723</td>\n",
       "      <td>-1.043310</td>\n",
       "      <td>1</td>\n",
       "    </tr>\n",
       "  </tbody>\n",
       "</table>\n",
       "<p>249 rows × 8 columns</p>\n",
       "</div>"
      ],
      "text/plain": [
       "            variation_mean  variation_std  volume_mean  up_count  down_count  \\\n",
       "datetime                                                                       \n",
       "2020-01-02        0.022111       0.040247     0.364707  0.267500    0.572500   \n",
       "2020-01-03        0.018378       0.026846     0.444251  0.244726    0.527426   \n",
       "2020-01-06        0.013982       0.021030     0.402859  0.382845    0.389121   \n",
       "2020-01-07        0.018523       0.035131     0.317816  0.403153    0.396396   \n",
       "2020-01-08        0.014198       0.032190     0.357783  0.446809    0.321277   \n",
       "...                    ...            ...          ...       ...         ...   \n",
       "2020-12-22        0.014322       0.028736     0.219796  0.464236    0.347826   \n",
       "2020-12-23        0.015095       0.019468     0.206458  0.277465    0.525352   \n",
       "2020-12-28        0.013466       0.020737     0.188982  0.379795    0.457801   \n",
       "2020-12-29        0.013948       0.051182     0.182524  0.465517    0.364721   \n",
       "2020-12-30        0.015300       0.023105     0.290802  0.469697    0.370523   \n",
       "\n",
       "            top_15_variation_mean  LOF_score  LOF_predictions  \n",
       "datetime                                                       \n",
       "2020-01-02               0.019942  -1.028385                1  \n",
       "2020-01-03               0.015803  -1.123559               -1  \n",
       "2020-01-06               0.012998  -1.077647               -1  \n",
       "2020-01-07               0.013190  -1.007626                1  \n",
       "2020-01-08               0.015617  -0.955317                1  \n",
       "...                           ...        ...              ...  \n",
       "2020-12-22               0.011171  -1.246826               -1  \n",
       "2020-12-23               0.014803  -1.463560               -1  \n",
       "2020-12-28               0.009518  -1.322092               -1  \n",
       "2020-12-29               0.007166  -1.445545               -1  \n",
       "2020-12-30               0.011723  -1.043310                1  \n",
       "\n",
       "[249 rows x 8 columns]"
      ]
     },
     "execution_count": 42,
     "metadata": {},
     "output_type": "execute_result"
    }
   ],
   "source": [
    "scores_low"
   ]
  },
  {
   "cell_type": "code",
   "execution_count": null,
   "id": "55226937",
   "metadata": {},
   "outputs": [],
   "source": []
  }
 ],
 "metadata": {
  "kernelspec": {
   "display_name": "Python 3 (ipykernel)",
   "language": "python",
   "name": "python3"
  },
  "language_info": {
   "codemirror_mode": {
    "name": "ipython",
    "version": 3
   },
   "file_extension": ".py",
   "mimetype": "text/x-python",
   "name": "python",
   "nbconvert_exporter": "python",
   "pygments_lexer": "ipython3",
   "version": "3.9.6"
  }
 },
 "nbformat": 4,
 "nbformat_minor": 5
}
