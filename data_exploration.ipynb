{
 "cells": [
  {
   "cell_type": "code",
   "execution_count": 1,
   "id": "c3ee57d3",
   "metadata": {},
   "outputs": [],
   "source": [
    "import numpy as np\n",
    "import pandas as pd\n",
    "import seaborn as sns\n",
    "from sklearn.neighbors import LocalOutlierFactor\n",
    "\n",
    "import matplotlib.pyplot as plt\n",
    "from sklearn.preprocessing import normalize\n",
    "from sklearn.preprocessing import MinMaxScaler\n",
    "from sklearn.neighbors import LocalOutlierFactor\n",
    "\n",
    "\n",
    "pd.set_option('display.max_colwidth', 355)\n",
    "pd.set_option('display.max_rows', 100)"
   ]
  },
  {
   "cell_type": "code",
   "execution_count": 2,
   "id": "2482b075",
   "metadata": {},
   "outputs": [],
   "source": [
    "df = pd.read_csv('datasets/b3_stocks_1994_2020.csv')\n",
    "#df = pd.read_csv('../b3data/b3_stocks_1994_2020.csv')"
   ]
  },
  {
   "cell_type": "markdown",
   "id": "86867893",
   "metadata": {},
   "source": [
    "## IBOV Ações - Exploração inicial"
   ]
  },
  {
   "cell_type": "code",
   "execution_count": 3,
   "id": "e4a6bb1d",
   "metadata": {
    "scrolled": false
   },
   "outputs": [
    {
     "data": {
      "text/html": [
       "<div>\n",
       "<style scoped>\n",
       "    .dataframe tbody tr th:only-of-type {\n",
       "        vertical-align: middle;\n",
       "    }\n",
       "\n",
       "    .dataframe tbody tr th {\n",
       "        vertical-align: top;\n",
       "    }\n",
       "\n",
       "    .dataframe thead th {\n",
       "        text-align: right;\n",
       "    }\n",
       "</style>\n",
       "<table border=\"1\" class=\"dataframe\">\n",
       "  <thead>\n",
       "    <tr style=\"text-align: right;\">\n",
       "      <th></th>\n",
       "      <th>datetime</th>\n",
       "      <th>ticker</th>\n",
       "      <th>open</th>\n",
       "      <th>close</th>\n",
       "      <th>high</th>\n",
       "      <th>low</th>\n",
       "      <th>volume</th>\n",
       "    </tr>\n",
       "  </thead>\n",
       "  <tbody>\n",
       "    <tr>\n",
       "      <th>0</th>\n",
       "      <td>1994-07-04</td>\n",
       "      <td>ACE 3</td>\n",
       "      <td>48.00</td>\n",
       "      <td>48.00</td>\n",
       "      <td>48.00</td>\n",
       "      <td>47.00</td>\n",
       "      <td>46550.0</td>\n",
       "    </tr>\n",
       "    <tr>\n",
       "      <th>1</th>\n",
       "      <td>1994-07-04</td>\n",
       "      <td>ALP 3</td>\n",
       "      <td>155.27</td>\n",
       "      <td>156.00</td>\n",
       "      <td>156.00</td>\n",
       "      <td>155.27</td>\n",
       "      <td>163405.8</td>\n",
       "    </tr>\n",
       "    <tr>\n",
       "      <th>2</th>\n",
       "      <td>1994-07-04</td>\n",
       "      <td>ALP 4</td>\n",
       "      <td>131.00</td>\n",
       "      <td>131.00</td>\n",
       "      <td>131.00</td>\n",
       "      <td>131.00</td>\n",
       "      <td>6550.0</td>\n",
       "    </tr>\n",
       "    <tr>\n",
       "      <th>3</th>\n",
       "      <td>1994-07-04</td>\n",
       "      <td>IBP 6</td>\n",
       "      <td>600.00</td>\n",
       "      <td>600.00</td>\n",
       "      <td>600.00</td>\n",
       "      <td>600.00</td>\n",
       "      <td>7800.0</td>\n",
       "    </tr>\n",
       "    <tr>\n",
       "      <th>4</th>\n",
       "      <td>1994-07-04</td>\n",
       "      <td>AQT 4</td>\n",
       "      <td>0.89</td>\n",
       "      <td>0.99</td>\n",
       "      <td>0.99</td>\n",
       "      <td>0.85</td>\n",
       "      <td>13137.0</td>\n",
       "    </tr>\n",
       "  </tbody>\n",
       "</table>\n",
       "</div>"
      ],
      "text/plain": [
       "     datetime ticker    open   close    high     low    volume\n",
       "0  1994-07-04  ACE 3   48.00   48.00   48.00   47.00   46550.0\n",
       "1  1994-07-04  ALP 3  155.27  156.00  156.00  155.27  163405.8\n",
       "2  1994-07-04  ALP 4  131.00  131.00  131.00  131.00    6550.0\n",
       "3  1994-07-04  IBP 6  600.00  600.00  600.00  600.00    7800.0\n",
       "4  1994-07-04  AQT 4    0.89    0.99    0.99    0.85   13137.0"
      ]
     },
     "execution_count": 3,
     "metadata": {},
     "output_type": "execute_result"
    }
   ],
   "source": [
    "df.head()"
   ]
  },
  {
   "cell_type": "code",
   "execution_count": 4,
   "id": "d5df0808",
   "metadata": {
    "scrolled": true
   },
   "outputs": [
    {
     "data": {
      "text/plain": [
       "(1883203, 7)"
      ]
     },
     "execution_count": 4,
     "metadata": {},
     "output_type": "execute_result"
    }
   ],
   "source": [
    "df.shape"
   ]
  },
  {
   "cell_type": "markdown",
   "id": "37f44beb",
   "metadata": {},
   "source": [
    "## Tratamento dos dados"
   ]
  },
  {
   "cell_type": "code",
   "execution_count": 5,
   "id": "f7dc783c",
   "metadata": {},
   "outputs": [],
   "source": [
    "# Convertendo string para datetime\n",
    "df['datetime'] = pd.to_datetime(df['datetime'])"
   ]
  },
  {
   "cell_type": "code",
   "execution_count": 6,
   "id": "0991631f",
   "metadata": {},
   "outputs": [],
   "source": [
    "# Removendo coluna não utilizada\n",
    "df = df.drop(['volume'], axis=1)"
   ]
  },
  {
   "cell_type": "markdown",
   "id": "bf6bb232",
   "metadata": {},
   "source": [
    "### Criação de novas features"
   ]
  },
  {
   "cell_type": "code",
   "execution_count": 7,
   "id": "123df84e",
   "metadata": {},
   "outputs": [],
   "source": [
    "# Variação diária em porcentagem \n",
    "df['delta_open'] = df.apply(lambda x: (abs(x['open'] - x['close']) / x['open']), axis=1)"
   ]
  },
  {
   "cell_type": "code",
   "execution_count": 8,
   "id": "bffb9f92",
   "metadata": {},
   "outputs": [],
   "source": [
    "# Indica se a variação foi positiva, negativa ou zero\n",
    "def calc_delta_side(row):\n",
    "    delta = row['open'] - row['close']\n",
    "    if delta > 0:\n",
    "        return 1\n",
    "    elif delta == 0:\n",
    "        return 0\n",
    "    else:\n",
    "        return -1\n",
    "\n",
    "df['delta_side'] = df.apply(lambda row: calc_delta_side(row), axis=1)"
   ]
  },
  {
   "cell_type": "markdown",
   "id": "41f4f527",
   "metadata": {},
   "source": [
    "**Coluna delta_high faz sentido??? (high - low)**"
   ]
  },
  {
   "cell_type": "markdown",
   "id": "994b0d8c",
   "metadata": {},
   "source": [
    "### Removendo dados que não fazem sentido\n",
    "com por exemplo, preço máximo menor do que o preço de abertura"
   ]
  },
  {
   "cell_type": "code",
   "execution_count": 9,
   "id": "4c1cc414",
   "metadata": {},
   "outputs": [
    {
     "data": {
      "text/html": [
       "<div>\n",
       "<style scoped>\n",
       "    .dataframe tbody tr th:only-of-type {\n",
       "        vertical-align: middle;\n",
       "    }\n",
       "\n",
       "    .dataframe tbody tr th {\n",
       "        vertical-align: top;\n",
       "    }\n",
       "\n",
       "    .dataframe thead th {\n",
       "        text-align: right;\n",
       "    }\n",
       "</style>\n",
       "<table border=\"1\" class=\"dataframe\">\n",
       "  <thead>\n",
       "    <tr style=\"text-align: right;\">\n",
       "      <th></th>\n",
       "      <th>datetime</th>\n",
       "      <th>ticker</th>\n",
       "      <th>open</th>\n",
       "      <th>close</th>\n",
       "      <th>high</th>\n",
       "      <th>low</th>\n",
       "      <th>delta_open</th>\n",
       "      <th>delta_side</th>\n",
       "    </tr>\n",
       "  </thead>\n",
       "  <tbody>\n",
       "    <tr>\n",
       "      <th>122258</th>\n",
       "      <td>1996-08-14</td>\n",
       "      <td>LAE 4</td>\n",
       "      <td>0.05</td>\n",
       "      <td>0.59</td>\n",
       "      <td>0.59</td>\n",
       "      <td>0.05</td>\n",
       "      <td>10.800000</td>\n",
       "      <td>-1</td>\n",
       "    </tr>\n",
       "    <tr>\n",
       "      <th>582487</th>\n",
       "      <td>2005-03-18</td>\n",
       "      <td>TPEC11B</td>\n",
       "      <td>1.00</td>\n",
       "      <td>33.00</td>\n",
       "      <td>1.00</td>\n",
       "      <td>1.00</td>\n",
       "      <td>32.000000</td>\n",
       "      <td>-1</td>\n",
       "    </tr>\n",
       "    <tr>\n",
       "      <th>587314</th>\n",
       "      <td>2005-04-20</td>\n",
       "      <td>ENMA3B</td>\n",
       "      <td>0.39</td>\n",
       "      <td>20.00</td>\n",
       "      <td>0.39</td>\n",
       "      <td>0.39</td>\n",
       "      <td>50.282051</td>\n",
       "      <td>-1</td>\n",
       "    </tr>\n",
       "    <tr>\n",
       "      <th>786027</th>\n",
       "      <td>2008-03-13</td>\n",
       "      <td>AMCE3</td>\n",
       "      <td>0.22</td>\n",
       "      <td>3.26</td>\n",
       "      <td>3.26</td>\n",
       "      <td>0.22</td>\n",
       "      <td>13.818182</td>\n",
       "      <td>-1</td>\n",
       "    </tr>\n",
       "  </tbody>\n",
       "</table>\n",
       "</div>"
      ],
      "text/plain": [
       "         datetime   ticker  open  close  high   low  delta_open  delta_side\n",
       "122258 1996-08-14    LAE 4  0.05   0.59  0.59  0.05   10.800000          -1\n",
       "582487 2005-03-18  TPEC11B  1.00  33.00  1.00  1.00   32.000000          -1\n",
       "587314 2005-04-20   ENMA3B  0.39  20.00  0.39  0.39   50.282051          -1\n",
       "786027 2008-03-13    AMCE3  0.22   3.26  3.26  0.22   13.818182          -1"
      ]
     },
     "execution_count": 9,
     "metadata": {},
     "output_type": "execute_result"
    }
   ],
   "source": [
    "# Muita low e high com muita variação mas close e open próximos\n",
    "df.loc[df['delta_open'] > 10].head(10)"
   ]
  },
  {
   "cell_type": "markdown",
   "id": "a955a445",
   "metadata": {},
   "source": [
    "#### Seriam esses dois dados ruido? (high = 1 / close = 33)"
   ]
  },
  {
   "cell_type": "code",
   "execution_count": 11,
   "id": "fdbd2871",
   "metadata": {},
   "outputs": [
    {
     "data": {
      "text/plain": [
       "(1882841, 8)"
      ]
     },
     "execution_count": 11,
     "metadata": {},
     "output_type": "execute_result"
    }
   ],
   "source": [
    "df = df.loc[(df['high'] >= df['open']) & (df['high'] >= df['close'])]\n",
    "df = df.loc[(df['open'] >= df['low']) & (df['close'] >= df['low'])]\n",
    "\n",
    "df = df.loc[(df['high'] >= df['low'])]\n",
    "\n",
    "df.shape"
   ]
  },
  {
   "cell_type": "markdown",
   "id": "9f9fe0f3",
   "metadata": {},
   "source": [
    "### Plotando distribuições"
   ]
  },
  {
   "cell_type": "code",
   "execution_count": 24,
   "id": "79927c59",
   "metadata": {
    "scrolled": false
   },
   "outputs": [
    {
     "data": {
      "text/html": [
       "<div>\n",
       "<style scoped>\n",
       "    .dataframe tbody tr th:only-of-type {\n",
       "        vertical-align: middle;\n",
       "    }\n",
       "\n",
       "    .dataframe tbody tr th {\n",
       "        vertical-align: top;\n",
       "    }\n",
       "\n",
       "    .dataframe thead th {\n",
       "        text-align: right;\n",
       "    }\n",
       "</style>\n",
       "<table border=\"1\" class=\"dataframe\">\n",
       "  <thead>\n",
       "    <tr style=\"text-align: right;\">\n",
       "      <th></th>\n",
       "      <th>open</th>\n",
       "      <th>close</th>\n",
       "      <th>high</th>\n",
       "      <th>low</th>\n",
       "      <th>delta_open</th>\n",
       "      <th>delta_side</th>\n",
       "    </tr>\n",
       "  </thead>\n",
       "  <tbody>\n",
       "    <tr>\n",
       "      <th>count</th>\n",
       "      <td>1882841.00000</td>\n",
       "      <td>1882841.00000</td>\n",
       "      <td>1882841.00000</td>\n",
       "      <td>1882841.00000</td>\n",
       "      <td>1882841.00000</td>\n",
       "      <td>1882841.00000</td>\n",
       "    </tr>\n",
       "    <tr>\n",
       "      <th>mean</th>\n",
       "      <td>68.07674</td>\n",
       "      <td>68.21162</td>\n",
       "      <td>68.75885</td>\n",
       "      <td>67.47485</td>\n",
       "      <td>0.01951</td>\n",
       "      <td>0.01085</td>\n",
       "    </tr>\n",
       "    <tr>\n",
       "      <th>std</th>\n",
       "      <td>1689.92439</td>\n",
       "      <td>1695.21409</td>\n",
       "      <td>1700.11106</td>\n",
       "      <td>1683.74740</td>\n",
       "      <td>0.04342</td>\n",
       "      <td>0.85763</td>\n",
       "    </tr>\n",
       "    <tr>\n",
       "      <th>min</th>\n",
       "      <td>0.01000</td>\n",
       "      <td>0.01000</td>\n",
       "      <td>0.01000</td>\n",
       "      <td>0.01000</td>\n",
       "      <td>0.00000</td>\n",
       "      <td>-1.00000</td>\n",
       "    </tr>\n",
       "    <tr>\n",
       "      <th>25%</th>\n",
       "      <td>3.96000</td>\n",
       "      <td>3.96000</td>\n",
       "      <td>4.00000</td>\n",
       "      <td>3.89000</td>\n",
       "      <td>0.00000</td>\n",
       "      <td>-1.00000</td>\n",
       "    </tr>\n",
       "    <tr>\n",
       "      <th>50%</th>\n",
       "      <td>13.69000</td>\n",
       "      <td>13.70000</td>\n",
       "      <td>13.91000</td>\n",
       "      <td>13.45000</td>\n",
       "      <td>0.00957</td>\n",
       "      <td>0.00000</td>\n",
       "    </tr>\n",
       "    <tr>\n",
       "      <th>75%</th>\n",
       "      <td>36.67000</td>\n",
       "      <td>36.70000</td>\n",
       "      <td>37.10000</td>\n",
       "      <td>36.05000</td>\n",
       "      <td>0.02459</td>\n",
       "      <td>1.00000</td>\n",
       "    </tr>\n",
       "    <tr>\n",
       "      <th>max</th>\n",
       "      <td>1297776.47000</td>\n",
       "      <td>1297776.47000</td>\n",
       "      <td>1297776.47000</td>\n",
       "      <td>1297776.47000</td>\n",
       "      <td>13.81818</td>\n",
       "      <td>1.00000</td>\n",
       "    </tr>\n",
       "  </tbody>\n",
       "</table>\n",
       "</div>"
      ],
      "text/plain": [
       "                open          close           high            low  \\\n",
       "count  1882841.00000  1882841.00000  1882841.00000  1882841.00000   \n",
       "mean        68.07674       68.21162       68.75885       67.47485   \n",
       "std       1689.92439     1695.21409     1700.11106     1683.74740   \n",
       "min          0.01000        0.01000        0.01000        0.01000   \n",
       "25%          3.96000        3.96000        4.00000        3.89000   \n",
       "50%         13.69000       13.70000       13.91000       13.45000   \n",
       "75%         36.67000       36.70000       37.10000       36.05000   \n",
       "max    1297776.47000  1297776.47000  1297776.47000  1297776.47000   \n",
       "\n",
       "          delta_open     delta_side  \n",
       "count  1882841.00000  1882841.00000  \n",
       "mean         0.01951        0.01085  \n",
       "std          0.04342        0.85763  \n",
       "min          0.00000       -1.00000  \n",
       "25%          0.00000       -1.00000  \n",
       "50%          0.00957        0.00000  \n",
       "75%          0.02459        1.00000  \n",
       "max         13.81818        1.00000  "
      ]
     },
     "execution_count": 24,
     "metadata": {},
     "output_type": "execute_result"
    }
   ],
   "source": [
    "df.describe().apply(lambda s: s.apply('{0:.5f}'.format))"
   ]
  },
  {
   "cell_type": "code",
   "execution_count": 12,
   "id": "0ba7983d",
   "metadata": {
    "scrolled": true
   },
   "outputs": [
    {
     "data": {
      "text/plain": [
       "<AxesSubplot:xlabel='delta_open'>"
      ]
     },
     "execution_count": 12,
     "metadata": {},
     "output_type": "execute_result"
    },
    {
     "data": {
      "image/png": "[encoded data removed]",
      "text/plain": [
       "<Figure size 432x288 with 1 Axes>"
      ]
     },
     "metadata": {
      "needs_background": "light"
     },
     "output_type": "display_data"
    }
   ],
   "source": [
    "sns.boxplot(x=df['delta_open'])\n",
    "# Esses pontos são possíveis outliers???"
   ]
  },
  {
   "cell_type": "code",
   "execution_count": 13,
   "id": "d5046f1d",
   "metadata": {},
   "outputs": [
    {
     "data": {
      "text/plain": [
       "<seaborn.axisgrid.FacetGrid at 0x1236c0910>"
      ]
     },
     "execution_count": 13,
     "metadata": {},
     "output_type": "execute_result"
    },
    {
     "data": {
      "image/png": "[encoded data removed]",
      "text/plain": [
       "<Figure size 360x360 with 1 Axes>"
      ]
     },
     "metadata": {
      "needs_background": "light"
     },
     "output_type": "display_data"
    }
   ],
   "source": [
    "# Cortando uma parte dos dados para ver o gráfico com \"zoom\"\n",
    "sns.relplot(x=\"open\", y=\"delta_open\", data=df)"
   ]
  },
  {
   "cell_type": "markdown",
   "id": "8f076bf6",
   "metadata": {},
   "source": [
    "### Normalizando valores\n",
    "\n",
    "**Normalizar antes ou depois de criar as feature?**"
   ]
  },
  {
   "cell_type": "code",
   "execution_count": 14,
   "id": "fa1d6e52",
   "metadata": {},
   "outputs": [],
   "source": [
    "# Normalizando os valores com MinMaxScaler\n",
    "# df[['open', 'close', 'low', 'high', 'delta_open']] = MinMaxScaler().fit_transform(df[['open', 'close', 'low', 'high', 'delta_open']])"
   ]
  },
  {
   "cell_type": "code",
   "execution_count": 15,
   "id": "e2b98fdb",
   "metadata": {},
   "outputs": [],
   "source": [
    "# Normalizando os valores usando normalização logaritmica\n",
    "# df[['open', 'close', 'low', 'high', 'delta_open']] = np.log(df[['open', 'close', 'low', 'high', 'delta_open']])"
   ]
  },
  {
   "cell_type": "markdown",
   "id": "2571a363",
   "metadata": {},
   "source": [
    "### Cortando uma parte dos dados para ver o gráfico com \"zoom\""
   ]
  },
  {
   "cell_type": "code",
   "execution_count": 23,
   "id": "7771d52f",
   "metadata": {},
   "outputs": [
    {
     "data": {
      "text/plain": [
       "<seaborn.axisgrid.FacetGrid at 0x1236c0ac0>"
      ]
     },
     "execution_count": 23,
     "metadata": {},
     "output_type": "execute_result"
    },
    {
     "data": {
      "image/png": "[encoded data removed]",
      "text/plain": [
       "<Figure size 360x360 with 1 Axes>"
      ]
     },
     "metadata": {
      "needs_background": "light"
     },
     "output_type": "display_data"
    }
   ],
   "source": [
    "sns.relplot(x=\"open\", y=\"delta_open\", data=df.loc[(df['delta_open'] < 1000) & (df['open'] < 1000)])"
   ]
  },
  {
   "cell_type": "markdown",
   "id": "f0f6ca1a",
   "metadata": {},
   "source": [
    "## Usaremos dados depois de 95 por causa do plano real\n",
    "Não temos a informação de como foi realizada a conversão da moeda e o ano de 94 possui muitas observações destoantes"
   ]
  },
  {
   "cell_type": "code",
   "execution_count": null,
   "id": "94037245",
   "metadata": {},
   "outputs": [],
   "source": [
    "df = df.loc[df['datetime'] > '1995-01-01']"
   ]
  },
  {
   "cell_type": "markdown",
   "id": "33492059",
   "metadata": {},
   "source": [
    "## Vamos usar apenas dados desse seculo\n",
    "Ao procurar muitas das ações listadas no dataset não encontramos informações"
   ]
  },
  {
   "cell_type": "code",
   "execution_count": null,
   "id": "4255b4ec",
   "metadata": {},
   "outputs": [],
   "source": [
    "df = df.loc[df['datetime'] > '2000-01-01']"
   ]
  },
  {
   "cell_type": "markdown",
   "id": "0a6619d7",
   "metadata": {},
   "source": [
    "#### Entendendo ações da amazon caindo bruscamente"
   ]
  },
  {
   "cell_type": "code",
   "execution_count": 17,
   "id": "0c370d9e",
   "metadata": {},
   "outputs": [
    {
     "data": {
      "text/plain": [
       "<AxesSubplot:xlabel='datetime', ylabel='close'>"
      ]
     },
     "execution_count": 17,
     "metadata": {},
     "output_type": "execute_result"
    },
    {
     "data": {
      "image/png": "[encoded data removed]",
      "text/plain": [
       "<Figure size 432x288 with 1 Axes>"
      ]
     },
     "metadata": {
      "needs_background": "light"
     },
     "output_type": "display_data"
    }
   ],
   "source": [
    "sns.lineplot(x='datetime', y='close', data=df.loc[(df['ticker'] == 'AMZO34') & (df['datetime'] > '2020-11-01') & (df['datetime'] > '2020-11-01')])"
   ]
  },
  {
   "cell_type": "code",
   "execution_count": 18,
   "id": "2b4adf8b",
   "metadata": {
    "scrolled": true
   },
   "outputs": [
    {
     "data": {
      "text/html": [
       "<div>\n",
       "<style scoped>\n",
       "    .dataframe tbody tr th:only-of-type {\n",
       "        vertical-align: middle;\n",
       "    }\n",
       "\n",
       "    .dataframe tbody tr th {\n",
       "        vertical-align: top;\n",
       "    }\n",
       "\n",
       "    .dataframe thead th {\n",
       "        text-align: right;\n",
       "    }\n",
       "</style>\n",
       "<table border=\"1\" class=\"dataframe\">\n",
       "  <thead>\n",
       "    <tr style=\"text-align: right;\">\n",
       "      <th></th>\n",
       "      <th>datetime</th>\n",
       "      <th>ticker</th>\n",
       "      <th>open</th>\n",
       "      <th>close</th>\n",
       "      <th>high</th>\n",
       "      <th>low</th>\n",
       "      <th>delta_open</th>\n",
       "      <th>delta_side</th>\n",
       "    </tr>\n",
       "  </thead>\n",
       "  <tbody>\n",
       "    <tr>\n",
       "      <th>1854244</th>\n",
       "      <td>2020-11-03</td>\n",
       "      <td>AMZO34</td>\n",
       "      <td>8638.99</td>\n",
       "      <td>8779.45</td>\n",
       "      <td>8840.00</td>\n",
       "      <td>8444.44</td>\n",
       "      <td>0.016259</td>\n",
       "      <td>-1</td>\n",
       "    </tr>\n",
       "    <tr>\n",
       "      <th>1854245</th>\n",
       "      <td>2020-11-04</td>\n",
       "      <td>AMZO34</td>\n",
       "      <td>8951.00</td>\n",
       "      <td>9194.65</td>\n",
       "      <td>9194.65</td>\n",
       "      <td>8951.00</td>\n",
       "      <td>0.027220</td>\n",
       "      <td>-1</td>\n",
       "    </tr>\n",
       "    <tr>\n",
       "      <th>1854246</th>\n",
       "      <td>2020-11-05</td>\n",
       "      <td>AMZO34</td>\n",
       "      <td>9207.00</td>\n",
       "      <td>9280.00</td>\n",
       "      <td>9350.00</td>\n",
       "      <td>9164.90</td>\n",
       "      <td>0.007929</td>\n",
       "      <td>-1</td>\n",
       "    </tr>\n",
       "    <tr>\n",
       "      <th>1854247</th>\n",
       "      <td>2020-11-06</td>\n",
       "      <td>AMZO34</td>\n",
       "      <td>9280.00</td>\n",
       "      <td>8926.50</td>\n",
       "      <td>9280.00</td>\n",
       "      <td>8870.00</td>\n",
       "      <td>0.038093</td>\n",
       "      <td>1</td>\n",
       "    </tr>\n",
       "    <tr>\n",
       "      <th>1854248</th>\n",
       "      <td>2020-11-09</td>\n",
       "      <td>AMZO34</td>\n",
       "      <td>113.71</td>\n",
       "      <td>108.81</td>\n",
       "      <td>117.95</td>\n",
       "      <td>105.96</td>\n",
       "      <td>0.043092</td>\n",
       "      <td>1</td>\n",
       "    </tr>\n",
       "    <tr>\n",
       "      <th>1854249</th>\n",
       "      <td>2020-11-10</td>\n",
       "      <td>AMZO34</td>\n",
       "      <td>106.08</td>\n",
       "      <td>105.47</td>\n",
       "      <td>107.27</td>\n",
       "      <td>103.30</td>\n",
       "      <td>0.005750</td>\n",
       "      <td>1</td>\n",
       "    </tr>\n",
       "    <tr>\n",
       "      <th>1859273</th>\n",
       "      <td>2020-11-11</td>\n",
       "      <td>AMZO34</td>\n",
       "      <td>106.29</td>\n",
       "      <td>107.55</td>\n",
       "      <td>108.05</td>\n",
       "      <td>104.85</td>\n",
       "      <td>0.011854</td>\n",
       "      <td>-1</td>\n",
       "    </tr>\n",
       "    <tr>\n",
       "      <th>1859274</th>\n",
       "      <td>2020-11-12</td>\n",
       "      <td>AMZO34</td>\n",
       "      <td>107.92</td>\n",
       "      <td>108.60</td>\n",
       "      <td>109.61</td>\n",
       "      <td>107.15</td>\n",
       "      <td>0.006301</td>\n",
       "      <td>-1</td>\n",
       "    </tr>\n",
       "    <tr>\n",
       "      <th>1859275</th>\n",
       "      <td>2020-11-13</td>\n",
       "      <td>AMZO34</td>\n",
       "      <td>108.66</td>\n",
       "      <td>108.88</td>\n",
       "      <td>110.11</td>\n",
       "      <td>107.78</td>\n",
       "      <td>0.002025</td>\n",
       "      <td>-1</td>\n",
       "    </tr>\n",
       "    <tr>\n",
       "      <th>1859276</th>\n",
       "      <td>2020-11-16</td>\n",
       "      <td>AMZO34</td>\n",
       "      <td>107.32</td>\n",
       "      <td>108.88</td>\n",
       "      <td>109.06</td>\n",
       "      <td>106.02</td>\n",
       "      <td>0.014536</td>\n",
       "      <td>-1</td>\n",
       "    </tr>\n",
       "    <tr>\n",
       "      <th>1859277</th>\n",
       "      <td>2020-11-17</td>\n",
       "      <td>AMZO34</td>\n",
       "      <td>109.90</td>\n",
       "      <td>107.21</td>\n",
       "      <td>110.59</td>\n",
       "      <td>106.70</td>\n",
       "      <td>0.024477</td>\n",
       "      <td>1</td>\n",
       "    </tr>\n",
       "    <tr>\n",
       "      <th>1859278</th>\n",
       "      <td>2020-11-18</td>\n",
       "      <td>AMZO34</td>\n",
       "      <td>106.30</td>\n",
       "      <td>107.89</td>\n",
       "      <td>107.89</td>\n",
       "      <td>104.70</td>\n",
       "      <td>0.014958</td>\n",
       "      <td>-1</td>\n",
       "    </tr>\n",
       "    <tr>\n",
       "      <th>1859279</th>\n",
       "      <td>2020-11-19</td>\n",
       "      <td>AMZO34</td>\n",
       "      <td>106.50</td>\n",
       "      <td>105.50</td>\n",
       "      <td>106.95</td>\n",
       "      <td>104.60</td>\n",
       "      <td>0.009390</td>\n",
       "      <td>1</td>\n",
       "    </tr>\n",
       "    <tr>\n",
       "      <th>1864194</th>\n",
       "      <td>2020-11-20</td>\n",
       "      <td>AMZO34</td>\n",
       "      <td>106.50</td>\n",
       "      <td>106.50</td>\n",
       "      <td>107.50</td>\n",
       "      <td>105.81</td>\n",
       "      <td>0.000000</td>\n",
       "      <td>0</td>\n",
       "    </tr>\n",
       "    <tr>\n",
       "      <th>1864195</th>\n",
       "      <td>2020-11-23</td>\n",
       "      <td>AMZO34</td>\n",
       "      <td>106.50</td>\n",
       "      <td>108.00</td>\n",
       "      <td>108.00</td>\n",
       "      <td>106.01</td>\n",
       "      <td>0.014085</td>\n",
       "      <td>-1</td>\n",
       "    </tr>\n",
       "    <tr>\n",
       "      <th>1864196</th>\n",
       "      <td>2020-11-24</td>\n",
       "      <td>AMZO34</td>\n",
       "      <td>107.96</td>\n",
       "      <td>106.81</td>\n",
       "      <td>107.96</td>\n",
       "      <td>106.15</td>\n",
       "      <td>0.010652</td>\n",
       "      <td>1</td>\n",
       "    </tr>\n",
       "    <tr>\n",
       "      <th>1864197</th>\n",
       "      <td>2020-11-25</td>\n",
       "      <td>AMZO34</td>\n",
       "      <td>106.83</td>\n",
       "      <td>108.06</td>\n",
       "      <td>108.79</td>\n",
       "      <td>106.51</td>\n",
       "      <td>0.011514</td>\n",
       "      <td>-1</td>\n",
       "    </tr>\n",
       "    <tr>\n",
       "      <th>1864198</th>\n",
       "      <td>2020-11-26</td>\n",
       "      <td>AMZO34</td>\n",
       "      <td>108.49</td>\n",
       "      <td>107.30</td>\n",
       "      <td>109.40</td>\n",
       "      <td>104.50</td>\n",
       "      <td>0.010969</td>\n",
       "      <td>1</td>\n",
       "    </tr>\n",
       "    <tr>\n",
       "      <th>1864199</th>\n",
       "      <td>2020-11-27</td>\n",
       "      <td>AMZO34</td>\n",
       "      <td>108.50</td>\n",
       "      <td>108.70</td>\n",
       "      <td>110.40</td>\n",
       "      <td>108.20</td>\n",
       "      <td>0.001843</td>\n",
       "      <td>-1</td>\n",
       "    </tr>\n",
       "    <tr>\n",
       "      <th>1864200</th>\n",
       "      <td>2020-11-30</td>\n",
       "      <td>AMZO34</td>\n",
       "      <td>108.70</td>\n",
       "      <td>108.00</td>\n",
       "      <td>109.49</td>\n",
       "      <td>106.86</td>\n",
       "      <td>0.006440</td>\n",
       "      <td>1</td>\n",
       "    </tr>\n",
       "    <tr>\n",
       "      <th>1868799</th>\n",
       "      <td>2020-12-01</td>\n",
       "      <td>AMZO34</td>\n",
       "      <td>108.00</td>\n",
       "      <td>108.00</td>\n",
       "      <td>108.90</td>\n",
       "      <td>105.83</td>\n",
       "      <td>0.000000</td>\n",
       "      <td>0</td>\n",
       "    </tr>\n",
       "    <tr>\n",
       "      <th>1868800</th>\n",
       "      <td>2020-12-02</td>\n",
       "      <td>AMZO34</td>\n",
       "      <td>108.00</td>\n",
       "      <td>106.74</td>\n",
       "      <td>108.00</td>\n",
       "      <td>105.85</td>\n",
       "      <td>0.011667</td>\n",
       "      <td>1</td>\n",
       "    </tr>\n",
       "    <tr>\n",
       "      <th>1868801</th>\n",
       "      <td>2020-12-03</td>\n",
       "      <td>AMZO34</td>\n",
       "      <td>107.30</td>\n",
       "      <td>105.15</td>\n",
       "      <td>107.30</td>\n",
       "      <td>104.30</td>\n",
       "      <td>0.020037</td>\n",
       "      <td>1</td>\n",
       "    </tr>\n",
       "    <tr>\n",
       "      <th>1868802</th>\n",
       "      <td>2020-12-04</td>\n",
       "      <td>AMZO34</td>\n",
       "      <td>105.15</td>\n",
       "      <td>103.87</td>\n",
       "      <td>105.58</td>\n",
       "      <td>103.02</td>\n",
       "      <td>0.012173</td>\n",
       "      <td>1</td>\n",
       "    </tr>\n",
       "    <tr>\n",
       "      <th>1868803</th>\n",
       "      <td>2020-12-07</td>\n",
       "      <td>AMZO34</td>\n",
       "      <td>103.79</td>\n",
       "      <td>102.92</td>\n",
       "      <td>103.79</td>\n",
       "      <td>101.75</td>\n",
       "      <td>0.008382</td>\n",
       "      <td>1</td>\n",
       "    </tr>\n",
       "    <tr>\n",
       "      <th>1868804</th>\n",
       "      <td>2020-12-08</td>\n",
       "      <td>AMZO34</td>\n",
       "      <td>103.27</td>\n",
       "      <td>103.75</td>\n",
       "      <td>104.00</td>\n",
       "      <td>100.90</td>\n",
       "      <td>0.004648</td>\n",
       "      <td>-1</td>\n",
       "    </tr>\n",
       "    <tr>\n",
       "      <th>1868805</th>\n",
       "      <td>2020-12-09</td>\n",
       "      <td>AMZO34</td>\n",
       "      <td>103.75</td>\n",
       "      <td>102.00</td>\n",
       "      <td>103.75</td>\n",
       "      <td>101.85</td>\n",
       "      <td>0.016867</td>\n",
       "      <td>1</td>\n",
       "    </tr>\n",
       "    <tr>\n",
       "      <th>1873895</th>\n",
       "      <td>2020-12-10</td>\n",
       "      <td>AMZO34</td>\n",
       "      <td>101.00</td>\n",
       "      <td>99.51</td>\n",
       "      <td>101.75</td>\n",
       "      <td>98.93</td>\n",
       "      <td>0.014752</td>\n",
       "      <td>1</td>\n",
       "    </tr>\n",
       "    <tr>\n",
       "      <th>1873896</th>\n",
       "      <td>2020-12-11</td>\n",
       "      <td>AMZO34</td>\n",
       "      <td>99.52</td>\n",
       "      <td>100.37</td>\n",
       "      <td>100.75</td>\n",
       "      <td>98.92</td>\n",
       "      <td>0.008541</td>\n",
       "      <td>-1</td>\n",
       "    </tr>\n",
       "    <tr>\n",
       "      <th>1873897</th>\n",
       "      <td>2020-12-14</td>\n",
       "      <td>AMZO34</td>\n",
       "      <td>100.40</td>\n",
       "      <td>102.50</td>\n",
       "      <td>103.99</td>\n",
       "      <td>100.00</td>\n",
       "      <td>0.020916</td>\n",
       "      <td>-1</td>\n",
       "    </tr>\n",
       "    <tr>\n",
       "      <th>1873898</th>\n",
       "      <td>2020-12-15</td>\n",
       "      <td>AMZO34</td>\n",
       "      <td>103.05</td>\n",
       "      <td>103.41</td>\n",
       "      <td>103.90</td>\n",
       "      <td>101.71</td>\n",
       "      <td>0.003493</td>\n",
       "      <td>-1</td>\n",
       "    </tr>\n",
       "    <tr>\n",
       "      <th>1873899</th>\n",
       "      <td>2020-12-16</td>\n",
       "      <td>AMZO34</td>\n",
       "      <td>103.48</td>\n",
       "      <td>104.99</td>\n",
       "      <td>105.60</td>\n",
       "      <td>102.70</td>\n",
       "      <td>0.014592</td>\n",
       "      <td>-1</td>\n",
       "    </tr>\n",
       "    <tr>\n",
       "      <th>1873900</th>\n",
       "      <td>2020-12-17</td>\n",
       "      <td>AMZO34</td>\n",
       "      <td>105.64</td>\n",
       "      <td>104.45</td>\n",
       "      <td>105.87</td>\n",
       "      <td>103.85</td>\n",
       "      <td>0.011265</td>\n",
       "      <td>1</td>\n",
       "    </tr>\n",
       "    <tr>\n",
       "      <th>1873901</th>\n",
       "      <td>2020-12-18</td>\n",
       "      <td>AMZO34</td>\n",
       "      <td>105.00</td>\n",
       "      <td>103.50</td>\n",
       "      <td>105.75</td>\n",
       "      <td>102.90</td>\n",
       "      <td>0.014286</td>\n",
       "      <td>1</td>\n",
       "    </tr>\n",
       "    <tr>\n",
       "      <th>1878974</th>\n",
       "      <td>2020-12-21</td>\n",
       "      <td>AMZO34</td>\n",
       "      <td>103.80</td>\n",
       "      <td>104.40</td>\n",
       "      <td>106.40</td>\n",
       "      <td>103.80</td>\n",
       "      <td>0.005780</td>\n",
       "      <td>-1</td>\n",
       "    </tr>\n",
       "    <tr>\n",
       "      <th>1878975</th>\n",
       "      <td>2020-12-22</td>\n",
       "      <td>AMZO34</td>\n",
       "      <td>105.80</td>\n",
       "      <td>105.98</td>\n",
       "      <td>106.00</td>\n",
       "      <td>104.56</td>\n",
       "      <td>0.001701</td>\n",
       "      <td>-1</td>\n",
       "    </tr>\n",
       "    <tr>\n",
       "      <th>1878976</th>\n",
       "      <td>2020-12-23</td>\n",
       "      <td>AMZO34</td>\n",
       "      <td>106.00</td>\n",
       "      <td>105.32</td>\n",
       "      <td>106.50</td>\n",
       "      <td>104.80</td>\n",
       "      <td>0.006415</td>\n",
       "      <td>1</td>\n",
       "    </tr>\n",
       "    <tr>\n",
       "      <th>1878977</th>\n",
       "      <td>2020-12-28</td>\n",
       "      <td>AMZO34</td>\n",
       "      <td>106.53</td>\n",
       "      <td>109.50</td>\n",
       "      <td>110.60</td>\n",
       "      <td>105.57</td>\n",
       "      <td>0.027879</td>\n",
       "      <td>-1</td>\n",
       "    </tr>\n",
       "    <tr>\n",
       "      <th>1878978</th>\n",
       "      <td>2020-12-29</td>\n",
       "      <td>AMZO34</td>\n",
       "      <td>109.50</td>\n",
       "      <td>110.80</td>\n",
       "      <td>110.90</td>\n",
       "      <td>108.70</td>\n",
       "      <td>0.011872</td>\n",
       "      <td>-1</td>\n",
       "    </tr>\n",
       "    <tr>\n",
       "      <th>1878979</th>\n",
       "      <td>2020-12-30</td>\n",
       "      <td>AMZO34</td>\n",
       "      <td>110.90</td>\n",
       "      <td>109.30</td>\n",
       "      <td>111.40</td>\n",
       "      <td>108.50</td>\n",
       "      <td>0.014427</td>\n",
       "      <td>1</td>\n",
       "    </tr>\n",
       "  </tbody>\n",
       "</table>\n",
       "</div>"
      ],
      "text/plain": [
       "          datetime  ticker     open    close     high      low  delta_open  \\\n",
       "1854244 2020-11-03  AMZO34  8638.99  8779.45  8840.00  8444.44    0.016259   \n",
       "1854245 2020-11-04  AMZO34  8951.00  9194.65  9194.65  8951.00    0.027220   \n",
       "1854246 2020-11-05  AMZO34  9207.00  9280.00  9350.00  9164.90    0.007929   \n",
       "1854247 2020-11-06  AMZO34  9280.00  8926.50  9280.00  8870.00    0.038093   \n",
       "1854248 2020-11-09  AMZO34   113.71   108.81   117.95   105.96    0.043092   \n",
       "1854249 2020-11-10  AMZO34   106.08   105.47   107.27   103.30    0.005750   \n",
       "1859273 2020-11-11  AMZO34   106.29   107.55   108.05   104.85    0.011854   \n",
       "1859274 2020-11-12  AMZO34   107.92   108.60   109.61   107.15    0.006301   \n",
       "1859275 2020-11-13  AMZO34   108.66   108.88   110.11   107.78    0.002025   \n",
       "1859276 2020-11-16  AMZO34   107.32   108.88   109.06   106.02    0.014536   \n",
       "1859277 2020-11-17  AMZO34   109.90   107.21   110.59   106.70    0.024477   \n",
       "1859278 2020-11-18  AMZO34   106.30   107.89   107.89   104.70    0.014958   \n",
       "1859279 2020-11-19  AMZO34   106.50   105.50   106.95   104.60    0.009390   \n",
       "1864194 2020-11-20  AMZO34   106.50   106.50   107.50   105.81    0.000000   \n",
       "1864195 2020-11-23  AMZO34   106.50   108.00   108.00   106.01    0.014085   \n",
       "1864196 2020-11-24  AMZO34   107.96   106.81   107.96   106.15    0.010652   \n",
       "1864197 2020-11-25  AMZO34   106.83   108.06   108.79   106.51    0.011514   \n",
       "1864198 2020-11-26  AMZO34   108.49   107.30   109.40   104.50    0.010969   \n",
       "1864199 2020-11-27  AMZO34   108.50   108.70   110.40   108.20    0.001843   \n",
       "1864200 2020-11-30  AMZO34   108.70   108.00   109.49   106.86    0.006440   \n",
       "1868799 2020-12-01  AMZO34   108.00   108.00   108.90   105.83    0.000000   \n",
       "1868800 2020-12-02  AMZO34   108.00   106.74   108.00   105.85    0.011667   \n",
       "1868801 2020-12-03  AMZO34   107.30   105.15   107.30   104.30    0.020037   \n",
       "1868802 2020-12-04  AMZO34   105.15   103.87   105.58   103.02    0.012173   \n",
       "1868803 2020-12-07  AMZO34   103.79   102.92   103.79   101.75    0.008382   \n",
       "1868804 2020-12-08  AMZO34   103.27   103.75   104.00   100.90    0.004648   \n",
       "1868805 2020-12-09  AMZO34   103.75   102.00   103.75   101.85    0.016867   \n",
       "1873895 2020-12-10  AMZO34   101.00    99.51   101.75    98.93    0.014752   \n",
       "1873896 2020-12-11  AMZO34    99.52   100.37   100.75    98.92    0.008541   \n",
       "1873897 2020-12-14  AMZO34   100.40   102.50   103.99   100.00    0.020916   \n",
       "1873898 2020-12-15  AMZO34   103.05   103.41   103.90   101.71    0.003493   \n",
       "1873899 2020-12-16  AMZO34   103.48   104.99   105.60   102.70    0.014592   \n",
       "1873900 2020-12-17  AMZO34   105.64   104.45   105.87   103.85    0.011265   \n",
       "1873901 2020-12-18  AMZO34   105.00   103.50   105.75   102.90    0.014286   \n",
       "1878974 2020-12-21  AMZO34   103.80   104.40   106.40   103.80    0.005780   \n",
       "1878975 2020-12-22  AMZO34   105.80   105.98   106.00   104.56    0.001701   \n",
       "1878976 2020-12-23  AMZO34   106.00   105.32   106.50   104.80    0.006415   \n",
       "1878977 2020-12-28  AMZO34   106.53   109.50   110.60   105.57    0.027879   \n",
       "1878978 2020-12-29  AMZO34   109.50   110.80   110.90   108.70    0.011872   \n",
       "1878979 2020-12-30  AMZO34   110.90   109.30   111.40   108.50    0.014427   \n",
       "\n",
       "         delta_side  \n",
       "1854244          -1  \n",
       "1854245          -1  \n",
       "1854246          -1  \n",
       "1854247           1  \n",
       "1854248           1  \n",
       "1854249           1  \n",
       "1859273          -1  \n",
       "1859274          -1  \n",
       "1859275          -1  \n",
       "1859276          -1  \n",
       "1859277           1  \n",
       "1859278          -1  \n",
       "1859279           1  \n",
       "1864194           0  \n",
       "1864195          -1  \n",
       "1864196           1  \n",
       "1864197          -1  \n",
       "1864198           1  \n",
       "1864199          -1  \n",
       "1864200           1  \n",
       "1868799           0  \n",
       "1868800           1  \n",
       "1868801           1  \n",
       "1868802           1  \n",
       "1868803           1  \n",
       "1868804          -1  \n",
       "1868805           1  \n",
       "1873895           1  \n",
       "1873896          -1  \n",
       "1873897          -1  \n",
       "1873898          -1  \n",
       "1873899          -1  \n",
       "1873900           1  \n",
       "1873901           1  \n",
       "1878974          -1  \n",
       "1878975          -1  \n",
       "1878976           1  \n",
       "1878977          -1  \n",
       "1878978          -1  \n",
       "1878979           1  "
      ]
     },
     "execution_count": 18,
     "metadata": {},
     "output_type": "execute_result"
    }
   ],
   "source": [
    "# Analisando alguns dados para entender o motivo da variação brusca\n",
    "df.loc[(df['ticker'] == 'AMZO34') & (df['datetime'] > '2020-11-01') & (df['datetime'] > '2020-11-01')]"
   ]
  },
  {
   "cell_type": "markdown",
   "id": "f697f364",
   "metadata": {},
   "source": [
    "#### Provavelmente reindexação (1 ação virou 10 com 1/10 do preço)"
   ]
  },
  {
   "cell_type": "markdown",
   "id": "b7e96f01",
   "metadata": {},
   "source": [
    "### LOF"
   ]
  },
  {
   "cell_type": "code",
   "execution_count": 19,
   "id": "845da458",
   "metadata": {},
   "outputs": [],
   "source": [
    "def get_LOF_scores(df, n_neighbors=10, contamination=0.05):\n",
    "    np.random.seed(42)\n",
    "\n",
    "    # fit the model for outlier detection (default)\n",
    "    clf = LocalOutlierFactor(n_neighbors=n_neighbors, contamination=contamination)\n",
    "    # use fit_predict to compute the predicted labels of the training samples\n",
    "    # (when LOF is used for outlier detection, the estimator has no predict,\n",
    "    # decision_function and score_samples methods).\n",
    "    y_pred = clf.fit_predict(df)\n",
    "\n",
    "    X_scores = clf.negative_outlier_factor_\n",
    "    \n",
    "    df['LOF_score'] = X_scores\n",
    "    df['LOF_predictions'] = y_pred\n",
    "    \n",
    "    return df"
   ]
  },
  {
   "cell_type": "code",
   "execution_count": 20,
   "id": "9bd63bb2",
   "metadata": {},
   "outputs": [],
   "source": [
    "def show_2D_outliers(df, x, y, scores, title = ''):\n",
    "\n",
    "    normalized = (df[scores].max() - df[scores]) / (df[scores].max() - df[scores].min())\n",
    "    \n",
    "    t = \"Outlier Scores\"\n",
    "    if title: t=t+\": \"+title\n",
    "    \n",
    "    fig, ax = plt.subplots(figsize=(8, 6))\n",
    "\n",
    "    plt.title(t)\n",
    "    plt.scatter(x=x, y=y, color='k', s=3., label='Data points', data=df)\n",
    "    # plot circles with radius proportional to the outlier scores\n",
    "\n",
    "    plt.scatter(x=x, y=y, s=1000 * normalized, edgecolors='r',\n",
    "                facecolors='none', label='Outlier scores', data=df)\n",
    "    plt.axis('tight')\n",
    "    # plt.xlim((-5, 5))\n",
    "    # plt.ylim((-5, 5))\n",
    "    # plt.xlabel(\"prediction errors: %d\" % (n_errors))\n",
    "    legend = plt.legend(loc='upper left')\n",
    "    legend.legendHandles[0]._sizes = [10]\n",
    "    legend.legendHandles[1]._sizes = [20]\n",
    "    plt.show()"
   ]
  },
  {
   "cell_type": "markdown",
   "id": "7ac6680e",
   "metadata": {},
   "source": [
    "### Aplicando o algoritmo para uma faixa muito densa do dataset"
   ]
  },
  {
   "cell_type": "code",
   "execution_count": 21,
   "id": "0fba2976",
   "metadata": {},
   "outputs": [
    {
     "data": {
      "image/png": "[encoded data removed]",
      "text/plain": [
       "<Figure size 576x432 with 1 Axes>"
      ]
     },
     "metadata": {
      "needs_background": "light"
     },
     "output_type": "display_data"
    }
   ],
   "source": [
    "df_low = df[['open', 'delta_open']]\n",
    "df_low = df_low.loc[(df_low['open'] < 10) & (df_low['delta_open'] < 0.5)]\n",
    "scores_low = get_LOF_scores(df_low, n_neighbors=300, contamination=0.5)\n",
    "\n",
    "show_2D_outliers(scores_low, x = 'open', y = 'delta_open', scores = 'LOF_score', title = 'Delta open low')"
   ]
  },
  {
   "cell_type": "markdown",
   "id": "dc97f87f",
   "metadata": {},
   "source": [
    "#### Acreditamos que nesse caso a visualização seja ruim pois alguns circulos ficam grandes o suficiente para ficar fora do gráfico"
   ]
  },
  {
   "cell_type": "markdown",
   "id": "516f2f8a",
   "metadata": {},
   "source": [
    "### Aplicando o algoritmo para uma faixa pouco densa do dataset"
   ]
  },
  {
   "cell_type": "code",
   "execution_count": 22,
   "id": "bd53aca0",
   "metadata": {
    "scrolled": false
   },
   "outputs": [
    {
     "data": {
      "image/png": "[encoded data removed]",
      "text/plain": [
       "<Figure size 576x432 with 1 Axes>"
      ]
     },
     "metadata": {
      "needs_background": "light"
     },
     "output_type": "display_data"
    }
   ],
   "source": [
    "df_high = df[['open', 'delta_open']]\n",
    "df_high = df_high.loc[(df_high['open'] > 500) & (df_high['delta_open'] > 0.1)]\n",
    "scores_high = get_LOF_scores(df_high, n_neighbors=100, contamination=0.3)\n",
    "\n",
    "show_2D_outliers(scores_high, x = 'open', y = 'delta_open', scores = 'LOF_score', title = 'Delta open high')"
   ]
  },
  {
   "cell_type": "markdown",
   "id": "9b7808ce",
   "metadata": {},
   "source": [
    "#### Acreditamos que nesse caso a visualização seja mais efetiva, porém não sabemos como realizar transformações no dataset para chegar numa visualização coerente"
   ]
  },
  {
   "cell_type": "markdown",
   "id": "ed9715ac",
   "metadata": {},
   "source": [
    "## Resultados\n",
    "\n",
    "#### - Maior problema identificado: disparidade no preço das ações (algumas centavos outras milhares de reais). Como tratar? - Normalização utilizando escala logaritmica???\n",
    "\n",
    "#### - Sem resultados satisfatórios\n",
    "#### - Visualização não é boa nesse caso\n",
    "#### - Quais outras transformações podem ser feitas ou visualizações exploradas?\n",
    "#### - Como tratar a disparidade entre os preços das ações?"
   ]
  },
  {
   "cell_type": "markdown",
   "id": "0b244709",
   "metadata": {},
   "source": [
    "## Opções e próximos passos:\n",
    "\n",
    "#### - Criação de novas features (temos idéias mas são caras computacionalmente)\n",
    "#### - Achar outra visualização mais compatível com o problema\n",
    "#### - Utilizar faixas de tempo diferentes para condensar os dados?\n",
    "#### - Cortar o dataset?"
   ]
  },
  {
   "cell_type": "code",
   "execution_count": null,
   "id": "3ea09d49",
   "metadata": {},
   "outputs": [],
   "source": []
  }
 ],
 "metadata": {
  "kernelspec": {
   "display_name": "Python 3 (ipykernel)",
   "language": "python",
   "name": "python3"
  },
  "language_info": {
   "codemirror_mode": {
    "name": "ipython",
    "version": 3
   },
   "file_extension": ".py",
   "mimetype": "text/x-python",
   "name": "python",
   "nbconvert_exporter": "python",
   "pygments_lexer": "ipython3",
   "version": "3.9.6"
  }
 },
 "nbformat": 4,
 "nbformat_minor": 5
}
