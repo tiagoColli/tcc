{
 "cells": [
  {
   "cell_type": "code",
   "execution_count": 1,
   "metadata": {},
   "outputs": [],
   "source": [
    "import pandas as pd\n",
    "import seaborn as sns\n",
    "from sklearn.neighbors import LocalOutlierFactor\n",
    "import numpy as np\n",
    "import matplotlib.pyplot as plt\n",
    "from sklearn.neighbors import LocalOutlierFactor\n",
    "from sklearn.preprocessing import normalize\n",
    "from sklearn.preprocessing import MinMaxScaler\n",
    "\n",
    "pd.set_option('display.max_colwidth', 355)\n",
    "pd.set_option('display.max_rows', 100)"
   ]
  },
  {
   "cell_type": "code",
   "execution_count": 2,
   "metadata": {},
   "outputs": [],
   "source": [
    "#df = pd.read_csv('datasets/b3_stocks_1994_2020.csv')\n",
    "df = pd.read_csv('../b3data/b3_stocks_1994_2020.csv')"
   ]
  },
  {
   "cell_type": "markdown",
   "metadata": {},
   "source": [
    "### IBOV Ações - Exploração inicial"
   ]
  },
  {
   "cell_type": "code",
   "execution_count": 3,
   "metadata": {
    "scrolled": false
   },
   "outputs": [
    {
     "data": {
      "text/html": [
       "<div>\n",
       "<style scoped>\n",
       "    .dataframe tbody tr th:only-of-type {\n",
       "        vertical-align: middle;\n",
       "    }\n",
       "\n",
       "    .dataframe tbody tr th {\n",
       "        vertical-align: top;\n",
       "    }\n",
       "\n",
       "    .dataframe thead th {\n",
       "        text-align: right;\n",
       "    }\n",
       "</style>\n",
       "<table border=\"1\" class=\"dataframe\">\n",
       "  <thead>\n",
       "    <tr style=\"text-align: right;\">\n",
       "      <th></th>\n",
       "      <th>datetime</th>\n",
       "      <th>ticker</th>\n",
       "      <th>open</th>\n",
       "      <th>close</th>\n",
       "      <th>high</th>\n",
       "      <th>low</th>\n",
       "      <th>volume</th>\n",
       "    </tr>\n",
       "  </thead>\n",
       "  <tbody>\n",
       "    <tr>\n",
       "      <th>0</th>\n",
       "      <td>1994-07-04</td>\n",
       "      <td>ACE 3</td>\n",
       "      <td>48.00</td>\n",
       "      <td>48.00</td>\n",
       "      <td>48.00</td>\n",
       "      <td>47.00</td>\n",
       "      <td>46550.0</td>\n",
       "    </tr>\n",
       "    <tr>\n",
       "      <th>1</th>\n",
       "      <td>1994-07-04</td>\n",
       "      <td>ALP 3</td>\n",
       "      <td>155.27</td>\n",
       "      <td>156.00</td>\n",
       "      <td>156.00</td>\n",
       "      <td>155.27</td>\n",
       "      <td>163405.8</td>\n",
       "    </tr>\n",
       "    <tr>\n",
       "      <th>2</th>\n",
       "      <td>1994-07-04</td>\n",
       "      <td>ALP 4</td>\n",
       "      <td>131.00</td>\n",
       "      <td>131.00</td>\n",
       "      <td>131.00</td>\n",
       "      <td>131.00</td>\n",
       "      <td>6550.0</td>\n",
       "    </tr>\n",
       "    <tr>\n",
       "      <th>3</th>\n",
       "      <td>1994-07-04</td>\n",
       "      <td>IBP 6</td>\n",
       "      <td>600.00</td>\n",
       "      <td>600.00</td>\n",
       "      <td>600.00</td>\n",
       "      <td>600.00</td>\n",
       "      <td>7800.0</td>\n",
       "    </tr>\n",
       "    <tr>\n",
       "      <th>4</th>\n",
       "      <td>1994-07-04</td>\n",
       "      <td>AQT 4</td>\n",
       "      <td>0.89</td>\n",
       "      <td>0.99</td>\n",
       "      <td>0.99</td>\n",
       "      <td>0.85</td>\n",
       "      <td>13137.0</td>\n",
       "    </tr>\n",
       "  </tbody>\n",
       "</table>\n",
       "</div>"
      ],
      "text/plain": [
       "     datetime ticker    open   close    high     low    volume\n",
       "0  1994-07-04  ACE 3   48.00   48.00   48.00   47.00   46550.0\n",
       "1  1994-07-04  ALP 3  155.27  156.00  156.00  155.27  163405.8\n",
       "2  1994-07-04  ALP 4  131.00  131.00  131.00  131.00    6550.0\n",
       "3  1994-07-04  IBP 6  600.00  600.00  600.00  600.00    7800.0\n",
       "4  1994-07-04  AQT 4    0.89    0.99    0.99    0.85   13137.0"
      ]
     },
     "execution_count": 3,
     "metadata": {},
     "output_type": "execute_result"
    }
   ],
   "source": [
    "df.head()"
   ]
  },
  {
   "cell_type": "code",
   "execution_count": 4,
   "metadata": {
    "scrolled": true
   },
   "outputs": [
    {
     "data": {
      "text/plain": [
       "(1883203, 7)"
      ]
     },
     "execution_count": 4,
     "metadata": {},
     "output_type": "execute_result"
    }
   ],
   "source": [
    "df.shape"
   ]
  },
  {
   "cell_type": "markdown",
   "metadata": {},
   "source": [
    "### "
   ]
  },
  {
   "cell_type": "code",
   "execution_count": 5,
   "metadata": {},
   "outputs": [],
   "source": [
    "# Convertendo string para datetime\n",
    "df['datetime'] = pd.to_datetime(df['datetime'])"
   ]
  },
  {
   "cell_type": "code",
   "execution_count": 6,
   "metadata": {},
   "outputs": [],
   "source": [
    "# Removing unused column\n",
    "df = df.drop(['volume'], axis=1)"
   ]
  },
  {
   "cell_type": "code",
   "execution_count": 7,
   "metadata": {},
   "outputs": [],
   "source": [
    "# Diferença de abertura e fechamento em porcentagem\n",
    "df['delta_open'] = df.apply(lambda x: (abs(x['open'] - x['close']) / x['open']), axis=1)"
   ]
  },
  {
   "cell_type": "code",
   "execution_count": null,
   "metadata": {},
   "outputs": [],
   "source": [
    "def calc_delta_side(row):\n",
    "    delta = row['open'] - row['close']\n",
    "    if delta > 0:\n",
    "        return 1\n",
    "    elif delta == 0:\n",
    "        return 0\n",
    "    else:\n",
    "        return -1\n",
    "\n",
    "df['delta_side'] = df.apply(lambda row: calc_delta_side(row), axis=1)"
   ]
  },
  {
   "cell_type": "code",
   "execution_count": null,
   "metadata": {},
   "outputs": [],
   "source": [
    "# Normalizando os valores\n",
    "df[['open', 'close', 'low', 'high', 'delta_open']] = MinMaxScaler().fit_transform(df[['open', 'close', 'low', 'high', 'delta_open']])"
   ]
  },
  {
   "cell_type": "code",
   "execution_count": null,
   "metadata": {},
   "outputs": [],
   "source": [
    "sns.boxplot(x=df['delta_open'])"
   ]
  },
  {
   "cell_type": "code",
   "execution_count": null,
   "metadata": {},
   "outputs": [],
   "source": [
    "sns.relplot(x=\"open\", y=\"delta_open\", data=df.loc[(df['delta_open'] < 1000) & (df['open'] < 1000)])"
   ]
  },
  {
   "cell_type": "code",
   "execution_count": null,
   "metadata": {
    "scrolled": true
   },
   "outputs": [],
   "source": [
    "df.loc[(df['delta_open'] > 100) & (df['open'] < 10)].head(100)"
   ]
  },
  {
   "cell_type": "code",
   "execution_count": null,
   "metadata": {},
   "outputs": [],
   "source": [
    "df.head()"
   ]
  },
  {
   "cell_type": "code",
   "execution_count": null,
   "metadata": {
    "scrolled": true
   },
   "outputs": [],
   "source": [
    "df.describe().apply(lambda s: s.apply('{0:.5f}'.format))"
   ]
  },
  {
   "cell_type": "code",
   "execution_count": null,
   "metadata": {},
   "outputs": [],
   "source": [
    "# ZOOM NOS NORMAIS\n",
    "# sns.relplot(x=\"delta_open\", y=\"delta_high\", data=df.loc[df['delta_high'] < 1000])"
   ]
  },
  {
   "cell_type": "markdown",
   "metadata": {},
   "source": [
    "## Usaremos dados depois de 95 por causa do plano real\n",
    "Deltas extramamente altas levantaram a suspeita"
   ]
  },
  {
   "cell_type": "code",
   "execution_count": null,
   "metadata": {},
   "outputs": [],
   "source": [
    "df = df.loc[df['datetime'] > '1995-01-01']"
   ]
  },
  {
   "cell_type": "markdown",
   "metadata": {},
   "source": [
    "### vamos recortar essa observação que esta extremamente descolada"
   ]
  },
  {
   "cell_type": "markdown",
   "metadata": {},
   "source": [
    "## Vamos usar apenas dados desse seculo\n",
    "nao conseguimos achar esssas acoes antigas"
   ]
  },
  {
   "cell_type": "code",
   "execution_count": null,
   "metadata": {},
   "outputs": [],
   "source": [
    "df = df.loc[df['datetime'] > '2000-01-01']"
   ]
  },
  {
   "cell_type": "code",
   "execution_count": null,
   "metadata": {},
   "outputs": [],
   "source": [
    "sns.lineplot(x='datetime', y='close', data=df.loc[(df['ticker'] == 'AMZO34') & (df['datetime'] > '2020-11-01') & (df['datetime'] > '2020-11-01')])"
   ]
  },
  {
   "cell_type": "code",
   "execution_count": null,
   "metadata": {},
   "outputs": [],
   "source": [
    "df.loc[(df['ticker'] == 'AMZO34') & (df['datetime'] > '2020-11-01') & (df['datetime'] > '2020-11-01')]"
   ]
  },
  {
   "cell_type": "markdown",
   "metadata": {},
   "source": [
    "### Seriam esses dois dados ruido?"
   ]
  },
  {
   "cell_type": "code",
   "execution_count": null,
   "metadata": {},
   "outputs": [],
   "source": [
    "df.loc[df['delta_open'] > 10].head(10)"
   ]
  },
  {
   "cell_type": "markdown",
   "metadata": {},
   "source": [
    "### resolvemos tirar o delta_high pois nao traz informação util"
   ]
  },
  {
   "cell_type": "code",
   "execution_count": null,
   "metadata": {},
   "outputs": [],
   "source": [
    "#df = df.drop(['delta_high', 'volume'], axis=1)"
   ]
  },
  {
   "cell_type": "markdown",
   "metadata": {},
   "source": [
    "### LOF"
   ]
  },
  {
   "cell_type": "code",
   "execution_count": null,
   "metadata": {},
   "outputs": [],
   "source": [
    "def get_LOF_scores(df, n_neighbors=10, contamination=0.05):\n",
    "    np.random.seed(42)\n",
    "\n",
    "    # fit the model for outlier detection (default)\n",
    "    clf = LocalOutlierFactor(n_neighbors=n_neighbors, contamination=contamination)\n",
    "    # use fit_predict to compute the predicted labels of the training samples\n",
    "    # (when LOF is used for outlier detection, the estimator has no predict,\n",
    "    # decision_function and score_samples methods).\n",
    "    y_pred = clf.fit_predict(df)\n",
    "\n",
    "    X_scores = clf.negative_outlier_factor_\n",
    "    \n",
    "    df['LOF_score'] = X_scores\n",
    "    df['LOF_predictions'] = y_pred\n",
    "    \n",
    "    return df"
   ]
  },
  {
   "cell_type": "code",
   "execution_count": null,
   "metadata": {},
   "outputs": [],
   "source": [
    "df1 = df[['open', 'delta_open', 'delta_side']]\n",
    "df1 = df1.loc[(df1['open'] < 1000)]\n",
    "scores = get_LOF_scores(df1, n_neighbors=30, contamination=0.5)"
   ]
  },
  {
   "cell_type": "code",
   "execution_count": null,
   "metadata": {},
   "outputs": [],
   "source": [
    "def show_2D_outliers(df, x, y, scores, title = ''):\n",
    "\n",
    "    normalized = (df[scores].max() - df[scores]) / (df[scores].max() - df[scores].min())\n",
    "    \n",
    "    t = \"Outlier Scores\"\n",
    "    if title: t=t+\": \"+title\n",
    "    \n",
    "    fig, ax = plt.subplots(figsize=(8, 6))\n",
    "\n",
    "    plt.title(t)\n",
    "    plt.scatter(x=x, y=y, color='k', s=3., label='Data points', data=df)\n",
    "    # plot circles with radius proportional to the outlier scores\n",
    "\n",
    "    plt.scatter(x=x, y=y, s=1000 * normalized, edgecolors='r',\n",
    "                facecolors='none', label='Outlier scores', data=df)\n",
    "    plt.axis('tight')\n",
    "    # plt.xlim((-5, 5))\n",
    "    # plt.ylim((-5, 5))\n",
    "    # plt.xlabel(\"prediction errors: %d\" % (n_errors))\n",
    "    legend = plt.legend(loc='upper left')\n",
    "    legend.legendHandles[0]._sizes = [10]\n",
    "    legend.legendHandles[1]._sizes = [20]\n",
    "    plt.show()"
   ]
  },
  {
   "cell_type": "code",
   "execution_count": null,
   "metadata": {
    "scrolled": false
   },
   "outputs": [],
   "source": [
    "df_plot = scores.loc[(scores['open'] < 10) & ((scores['delta_open'] < 100))]\n",
    "\n",
    "show_2D_outliers(df_plot, x = 'open', y = 'delta_open', scores = 'LOF_score', title = 'Dia Semana')"
   ]
  },
  {
   "cell_type": "code",
   "execution_count": null,
   "metadata": {},
   "outputs": [],
   "source": [
    "scores"
   ]
  },
  {
   "cell_type": "code",
   "execution_count": null,
   "metadata": {},
   "outputs": [],
   "source": []
  }
 ],
 "metadata": {
  "kernelspec": {
   "display_name": "Python 3 (ipykernel)",
   "language": "python",
   "name": "python3"
  },
  "language_info": {
   "codemirror_mode": {
    "name": "ipython",
    "version": 3
   },
   "file_extension": ".py",
   "mimetype": "text/x-python",
   "name": "python",
   "nbconvert_exporter": "python",
   "pygments_lexer": "ipython3",
   "version": "3.8.10"
  }
 },
 "nbformat": 4,
 "nbformat_minor": 5
}
